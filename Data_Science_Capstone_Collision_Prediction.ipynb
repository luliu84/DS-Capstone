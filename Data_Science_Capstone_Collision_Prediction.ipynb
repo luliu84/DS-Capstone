{
  "nbformat": 4,
  "nbformat_minor": 0,
  "metadata": {
    "colab": {
      "name": "Data Science Capstone - Collision Prediction.ipynb",
      "provenance": [],
      "collapsed_sections": [],
      "toc_visible": true,
      "authorship_tag": "ABX9TyPLIh+PoybsgY8Zcmt7TF7u",
      "include_colab_link": true
    },
    "kernelspec": {
      "name": "python3",
      "display_name": "Python 3"
    }
  },
  "cells": [
    {
      "cell_type": "markdown",
      "metadata": {
        "id": "view-in-github",
        "colab_type": "text"
      },
      "source": [
        "<a href=\"https://colab.research.google.com/github/luliu84/DS-Capstone/blob/master/Data_Science_Capstone_Collision_Prediction.ipynb\" target=\"_parent\"><img src=\"https://colab.research.google.com/assets/colab-badge.svg\" alt=\"Open In Colab\"/></a>"
      ]
    },
    {
      "cell_type": "markdown",
      "metadata": {
        "id": "9O7CUf05M9WF"
      },
      "source": [
        "\n",
        "# Data Science Capstone Week 2 \n",
        "## A description of the problem and a discussion of the background\n",
        "## A description of the data and how it will be used to solve the problem"
      ]
    },
    {
      "cell_type": "markdown",
      "metadata": {
        "id": "Riu3-scDpEbw"
      },
      "source": [
        "# Import Library and Dataset"
      ]
    },
    {
      "cell_type": "code",
      "metadata": {
        "id": "nSGEooPc2px9"
      },
      "source": [
        "import pandas as pd\n",
        "import numpy as np\n",
        "from sklearn import preprocessing\n",
        "import matplotlib.pyplot as plt \n",
        "from sklearn.linear_model import LogisticRegression\n",
        "from sklearn.model_selection import train_test_split\n",
        "import seaborn as sns\n",
        "from scipy.stats import chi2_contingency"
      ],
      "execution_count": null,
      "outputs": []
    },
    {
      "cell_type": "code",
      "metadata": {
        "id": "OMCMbMyu0gwe",
        "colab": {
          "resources": {
            "http://localhost:8080/nbextensions/google.colab/files.js": {
              "data": "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",
              "ok": true,
              "headers": [
                [
                  "content-type",
                  "application/javascript"
                ]
              ],
              "status": 200,
              "status_text": "OK"
            }
          },
          "base_uri": "https://localhost:8080/",
          "height": 75
        },
        "outputId": "11b24549-2a2f-4c3f-80c8-1bc0708a772f"
      },
      "source": [
        "# Retrive the dataset\n",
        "from google.colab import files\n",
        "uploaded = files.upload()"
      ],
      "execution_count": null,
      "outputs": [
        {
          "output_type": "display_data",
          "data": {
            "text/html": [
              "\n",
              "     <input type=\"file\" id=\"files-1bc1b0c2-96b7-4e7c-8cee-59a921bd77c9\" name=\"files[]\" multiple disabled\n",
              "        style=\"border:none\" />\n",
              "     <output id=\"result-1bc1b0c2-96b7-4e7c-8cee-59a921bd77c9\">\n",
              "      Upload widget is only available when the cell has been executed in the\n",
              "      current browser session. Please rerun this cell to enable.\n",
              "      </output>\n",
              "      <script src=\"/nbextensions/google.colab/files.js\"></script> "
            ],
            "text/plain": [
              "<IPython.core.display.HTML object>"
            ]
          },
          "metadata": {
            "tags": []
          }
        },
        {
          "output_type": "stream",
          "text": [
            "Saving Data_Collisions.csv to Data_Collisions.csv\n"
          ],
          "name": "stdout"
        }
      ]
    },
    {
      "cell_type": "code",
      "metadata": {
        "id": "JHvn5HAP70LU"
      },
      "source": [
        "dc = pd.read_csv(r'Data_Collisions.csv')"
      ],
      "execution_count": null,
      "outputs": []
    },
    {
      "cell_type": "code",
      "metadata": {
        "id": "uyb5a0Ej8q19",
        "colab": {
          "base_uri": "https://localhost:8080/"
        },
        "outputId": "d9e8ab68-59b4-4807-c18a-a68415ecbf35"
      },
      "source": [
        "print(dc.shape)\n",
        "print(list(dc.columns))"
      ],
      "execution_count": null,
      "outputs": [
        {
          "output_type": "stream",
          "text": [
            "(221738, 40)\n",
            "['X', 'Y', 'OBJECTID', 'INCKEY', 'COLDETKEY', 'REPORTNO', 'STATUS', 'ADDRTYPE', 'INTKEY', 'LOCATION', 'EXCEPTRSNCODE', 'EXCEPTRSNDESC', 'SEVERITYCODE', 'SEVERITYDESC', 'COLLISIONTYPE', 'PERSONCOUNT', 'PEDCOUNT', 'PEDCYLCOUNT', 'VEHCOUNT', 'INJURIES', 'SERIOUSINJURIES', 'FATALITIES', 'INCDATE', 'INCDTTM', 'JUNCTIONTYPE', 'SDOT_COLCODE', 'SDOT_COLDESC', 'INATTENTIONIND', 'UNDERINFL', 'WEATHER', 'ROADCOND', 'LIGHTCOND', 'PEDROWNOTGRNT', 'SDOTCOLNUM', 'SPEEDING', 'ST_COLCODE', 'ST_COLDESC', 'SEGLANEKEY', 'CROSSWALKKEY', 'HITPARKEDCAR']\n"
          ],
          "name": "stdout"
        }
      ]
    },
    {
      "cell_type": "code",
      "metadata": {
        "colab": {
          "base_uri": "https://localhost:8080/",
          "height": 626
        },
        "id": "Rt03YXcFpdRx",
        "outputId": "a0f3b353-3530-4fb9-cd12-36c95c79de1b"
      },
      "source": [
        "\r\n",
        "dc.head(5)"
      ],
      "execution_count": null,
      "outputs": [
        {
          "output_type": "execute_result",
          "data": {
            "text/html": [
              "<div>\n",
              "<style scoped>\n",
              "    .dataframe tbody tr th:only-of-type {\n",
              "        vertical-align: middle;\n",
              "    }\n",
              "\n",
              "    .dataframe tbody tr th {\n",
              "        vertical-align: top;\n",
              "    }\n",
              "\n",
              "    .dataframe thead th {\n",
              "        text-align: right;\n",
              "    }\n",
              "</style>\n",
              "<table border=\"1\" class=\"dataframe\">\n",
              "  <thead>\n",
              "    <tr style=\"text-align: right;\">\n",
              "      <th></th>\n",
              "      <th>X</th>\n",
              "      <th>Y</th>\n",
              "      <th>OBJECTID</th>\n",
              "      <th>INCKEY</th>\n",
              "      <th>COLDETKEY</th>\n",
              "      <th>REPORTNO</th>\n",
              "      <th>STATUS</th>\n",
              "      <th>ADDRTYPE</th>\n",
              "      <th>INTKEY</th>\n",
              "      <th>LOCATION</th>\n",
              "      <th>EXCEPTRSNCODE</th>\n",
              "      <th>EXCEPTRSNDESC</th>\n",
              "      <th>SEVERITYCODE</th>\n",
              "      <th>SEVERITYDESC</th>\n",
              "      <th>COLLISIONTYPE</th>\n",
              "      <th>PERSONCOUNT</th>\n",
              "      <th>PEDCOUNT</th>\n",
              "      <th>PEDCYLCOUNT</th>\n",
              "      <th>VEHCOUNT</th>\n",
              "      <th>INJURIES</th>\n",
              "      <th>SERIOUSINJURIES</th>\n",
              "      <th>FATALITIES</th>\n",
              "      <th>INCDATE</th>\n",
              "      <th>INCDTTM</th>\n",
              "      <th>JUNCTIONTYPE</th>\n",
              "      <th>SDOT_COLCODE</th>\n",
              "      <th>SDOT_COLDESC</th>\n",
              "      <th>INATTENTIONIND</th>\n",
              "      <th>UNDERINFL</th>\n",
              "      <th>WEATHER</th>\n",
              "      <th>ROADCOND</th>\n",
              "      <th>LIGHTCOND</th>\n",
              "      <th>PEDROWNOTGRNT</th>\n",
              "      <th>SDOTCOLNUM</th>\n",
              "      <th>SPEEDING</th>\n",
              "      <th>ST_COLCODE</th>\n",
              "      <th>ST_COLDESC</th>\n",
              "      <th>SEGLANEKEY</th>\n",
              "      <th>CROSSWALKKEY</th>\n",
              "      <th>HITPARKEDCAR</th>\n",
              "    </tr>\n",
              "  </thead>\n",
              "  <tbody>\n",
              "    <tr>\n",
              "      <th>0</th>\n",
              "      <td>-122.356511</td>\n",
              "      <td>47.517361</td>\n",
              "      <td>1</td>\n",
              "      <td>327920</td>\n",
              "      <td>329420</td>\n",
              "      <td>3856094</td>\n",
              "      <td>Matched</td>\n",
              "      <td>Intersection</td>\n",
              "      <td>34911.0</td>\n",
              "      <td>17TH AVE SW AND SW ROXBURY ST</td>\n",
              "      <td></td>\n",
              "      <td>NaN</td>\n",
              "      <td>1</td>\n",
              "      <td>Property Damage Only Collision</td>\n",
              "      <td>Angles</td>\n",
              "      <td>2</td>\n",
              "      <td>0</td>\n",
              "      <td>0</td>\n",
              "      <td>2</td>\n",
              "      <td>0</td>\n",
              "      <td>0</td>\n",
              "      <td>0</td>\n",
              "      <td>2020/01/19 00:00:00+00</td>\n",
              "      <td>1/19/2020 9:01:00 AM</td>\n",
              "      <td>At Intersection (intersection related)</td>\n",
              "      <td>11.0</td>\n",
              "      <td>MOTOR VEHICLE STRUCK MOTOR VEHICLE, FRONT END ...</td>\n",
              "      <td>NaN</td>\n",
              "      <td>N</td>\n",
              "      <td>Clear</td>\n",
              "      <td>Dry</td>\n",
              "      <td>Daylight</td>\n",
              "      <td>NaN</td>\n",
              "      <td>NaN</td>\n",
              "      <td>NaN</td>\n",
              "      <td>10</td>\n",
              "      <td>Entering at angle</td>\n",
              "      <td>0</td>\n",
              "      <td>0</td>\n",
              "      <td>N</td>\n",
              "    </tr>\n",
              "    <tr>\n",
              "      <th>1</th>\n",
              "      <td>-122.361405</td>\n",
              "      <td>47.702064</td>\n",
              "      <td>2</td>\n",
              "      <td>46200</td>\n",
              "      <td>46200</td>\n",
              "      <td>1791736</td>\n",
              "      <td>Matched</td>\n",
              "      <td>Block</td>\n",
              "      <td>NaN</td>\n",
              "      <td>HOLMAN RD NW BETWEEN 4TH AVE NW AND 3RD AVE NW</td>\n",
              "      <td>NaN</td>\n",
              "      <td>NaN</td>\n",
              "      <td>1</td>\n",
              "      <td>Property Damage Only Collision</td>\n",
              "      <td>Rear Ended</td>\n",
              "      <td>2</td>\n",
              "      <td>0</td>\n",
              "      <td>0</td>\n",
              "      <td>2</td>\n",
              "      <td>0</td>\n",
              "      <td>0</td>\n",
              "      <td>0</td>\n",
              "      <td>2005/04/11 00:00:00+00</td>\n",
              "      <td>4/11/2005 6:31:00 PM</td>\n",
              "      <td>Mid-Block (not related to intersection)</td>\n",
              "      <td>14.0</td>\n",
              "      <td>MOTOR VEHICLE STRUCK MOTOR VEHICLE, REAR END</td>\n",
              "      <td>Y</td>\n",
              "      <td>0</td>\n",
              "      <td>Raining</td>\n",
              "      <td>Wet</td>\n",
              "      <td>Dusk</td>\n",
              "      <td>NaN</td>\n",
              "      <td>5101020.0</td>\n",
              "      <td>NaN</td>\n",
              "      <td>13</td>\n",
              "      <td>From same direction - both going straight - bo...</td>\n",
              "      <td>0</td>\n",
              "      <td>0</td>\n",
              "      <td>N</td>\n",
              "    </tr>\n",
              "    <tr>\n",
              "      <th>2</th>\n",
              "      <td>-122.317414</td>\n",
              "      <td>47.664028</td>\n",
              "      <td>3</td>\n",
              "      <td>1212</td>\n",
              "      <td>1212</td>\n",
              "      <td>3507861</td>\n",
              "      <td>Matched</td>\n",
              "      <td>Block</td>\n",
              "      <td>NaN</td>\n",
              "      <td>ROOSEVELT WAY NE BETWEEN NE 47TH ST AND NE 50T...</td>\n",
              "      <td></td>\n",
              "      <td>NaN</td>\n",
              "      <td>2</td>\n",
              "      <td>Injury Collision</td>\n",
              "      <td>Head On</td>\n",
              "      <td>2</td>\n",
              "      <td>0</td>\n",
              "      <td>0</td>\n",
              "      <td>2</td>\n",
              "      <td>1</td>\n",
              "      <td>0</td>\n",
              "      <td>0</td>\n",
              "      <td>2013/03/31 00:00:00+00</td>\n",
              "      <td>3/31/2013 2:09:00 AM</td>\n",
              "      <td>Mid-Block (not related to intersection)</td>\n",
              "      <td>11.0</td>\n",
              "      <td>MOTOR VEHICLE STRUCK MOTOR VEHICLE, FRONT END ...</td>\n",
              "      <td>NaN</td>\n",
              "      <td>N</td>\n",
              "      <td>Clear</td>\n",
              "      <td>Dry</td>\n",
              "      <td>Dark - Street Lights On</td>\n",
              "      <td>NaN</td>\n",
              "      <td>NaN</td>\n",
              "      <td>NaN</td>\n",
              "      <td>30</td>\n",
              "      <td>From opposite direction - all others</td>\n",
              "      <td>0</td>\n",
              "      <td>0</td>\n",
              "      <td>N</td>\n",
              "    </tr>\n",
              "    <tr>\n",
              "      <th>3</th>\n",
              "      <td>-122.318234</td>\n",
              "      <td>47.619927</td>\n",
              "      <td>4</td>\n",
              "      <td>327909</td>\n",
              "      <td>329409</td>\n",
              "      <td>EA03026</td>\n",
              "      <td>Matched</td>\n",
              "      <td>Intersection</td>\n",
              "      <td>29054.0</td>\n",
              "      <td>11TH AVE E AND E JOHN ST</td>\n",
              "      <td></td>\n",
              "      <td>NaN</td>\n",
              "      <td>2</td>\n",
              "      <td>Injury Collision</td>\n",
              "      <td>Pedestrian</td>\n",
              "      <td>3</td>\n",
              "      <td>1</td>\n",
              "      <td>0</td>\n",
              "      <td>1</td>\n",
              "      <td>1</td>\n",
              "      <td>0</td>\n",
              "      <td>0</td>\n",
              "      <td>2020/01/06 00:00:00+00</td>\n",
              "      <td>1/6/2020 5:55:00 PM</td>\n",
              "      <td>At Intersection (intersection related)</td>\n",
              "      <td>24.0</td>\n",
              "      <td>MOTOR VEHCILE STRUCK PEDESTRIAN</td>\n",
              "      <td>NaN</td>\n",
              "      <td>N</td>\n",
              "      <td>Raining</td>\n",
              "      <td>Wet</td>\n",
              "      <td>Dark - Street Lights On</td>\n",
              "      <td>NaN</td>\n",
              "      <td>NaN</td>\n",
              "      <td>NaN</td>\n",
              "      <td>0</td>\n",
              "      <td>Vehicle going straight hits pedestrian</td>\n",
              "      <td>0</td>\n",
              "      <td>0</td>\n",
              "      <td>N</td>\n",
              "    </tr>\n",
              "    <tr>\n",
              "      <th>4</th>\n",
              "      <td>-122.351724</td>\n",
              "      <td>47.560306</td>\n",
              "      <td>5</td>\n",
              "      <td>104900</td>\n",
              "      <td>104900</td>\n",
              "      <td>2671936</td>\n",
              "      <td>Matched</td>\n",
              "      <td>Block</td>\n",
              "      <td>NaN</td>\n",
              "      <td>WEST MARGINAL WAY SW BETWEEN SW ALASKA ST AND ...</td>\n",
              "      <td>NaN</td>\n",
              "      <td>NaN</td>\n",
              "      <td>2</td>\n",
              "      <td>Injury Collision</td>\n",
              "      <td>Other</td>\n",
              "      <td>2</td>\n",
              "      <td>0</td>\n",
              "      <td>0</td>\n",
              "      <td>1</td>\n",
              "      <td>1</td>\n",
              "      <td>0</td>\n",
              "      <td>0</td>\n",
              "      <td>2009/12/25 00:00:00+00</td>\n",
              "      <td>12/25/2009 7:00:00 PM</td>\n",
              "      <td>Mid-Block (not related to intersection)</td>\n",
              "      <td>28.0</td>\n",
              "      <td>MOTOR VEHICLE RAN OFF ROAD - HIT FIXED OBJECT</td>\n",
              "      <td>NaN</td>\n",
              "      <td>0</td>\n",
              "      <td>Clear</td>\n",
              "      <td>Ice</td>\n",
              "      <td>Dark - Street Lights On</td>\n",
              "      <td>NaN</td>\n",
              "      <td>9359012.0</td>\n",
              "      <td>Y</td>\n",
              "      <td>50</td>\n",
              "      <td>Fixed object</td>\n",
              "      <td>0</td>\n",
              "      <td>0</td>\n",
              "      <td>N</td>\n",
              "    </tr>\n",
              "  </tbody>\n",
              "</table>\n",
              "</div>"
            ],
            "text/plain": [
              "            X          Y  OBJECTID  ...  SEGLANEKEY  CROSSWALKKEY HITPARKEDCAR\n",
              "0 -122.356511  47.517361         1  ...           0             0            N\n",
              "1 -122.361405  47.702064         2  ...           0             0            N\n",
              "2 -122.317414  47.664028         3  ...           0             0            N\n",
              "3 -122.318234  47.619927         4  ...           0             0            N\n",
              "4 -122.351724  47.560306         5  ...           0             0            N\n",
              "\n",
              "[5 rows x 40 columns]"
            ]
          },
          "metadata": {
            "tags": []
          },
          "execution_count": 103
        }
      ]
    },
    {
      "cell_type": "code",
      "metadata": {
        "colab": {
          "base_uri": "https://localhost:8080/"
        },
        "id": "SGytkL29Q3nv",
        "outputId": "a5e85a10-3a5d-431b-e201-3809c391b606"
      },
      "source": [
        "dc.isna().sum()\r\n",
        "#dc.isnull().sum() -- same results as isna()\r\n"
      ],
      "execution_count": null,
      "outputs": [
        {
          "output_type": "execute_result",
          "data": {
            "text/plain": [
              "X                    7478\n",
              "Y                    7478\n",
              "OBJECTID                0\n",
              "INCKEY                  0\n",
              "COLDETKEY               0\n",
              "REPORTNO                0\n",
              "STATUS                  0\n",
              "ADDRTYPE             3714\n",
              "INTKEY             149711\n",
              "LOCATION             4593\n",
              "EXCEPTRSNCODE      120403\n",
              "EXCEPTRSNDESC      209953\n",
              "SEVERITYCODE            1\n",
              "SEVERITYDESC            0\n",
              "COLLISIONTYPE       26451\n",
              "PERSONCOUNT             0\n",
              "PEDCOUNT                0\n",
              "PEDCYLCOUNT             0\n",
              "VEHCOUNT                0\n",
              "INJURIES                0\n",
              "SERIOUSINJURIES         0\n",
              "FATALITIES              0\n",
              "INCDATE                 0\n",
              "INCDTTM                 0\n",
              "JUNCTIONTYPE        11979\n",
              "SDOT_COLCODE            1\n",
              "SDOT_COLDESC            1\n",
              "INATTENTIONIND     191550\n",
              "UNDERINFL           26431\n",
              "WEATHER             26641\n",
              "ROADCOND            26560\n",
              "LIGHTCOND           26730\n",
              "PEDROWNOTGRNT      216543\n",
              "SDOTCOLNUM          94533\n",
              "SPEEDING           211802\n",
              "ST_COLCODE           9413\n",
              "ST_COLDESC          26451\n",
              "SEGLANEKEY              0\n",
              "CROSSWALKKEY            0\n",
              "HITPARKEDCAR            0\n",
              "dtype: int64"
            ]
          },
          "metadata": {
            "tags": []
          },
          "execution_count": 104
        }
      ]
    },
    {
      "cell_type": "markdown",
      "metadata": {
        "id": "SSpT_5YNMqGN"
      },
      "source": [
        "# Target Variable Clean and Setup\r\n",
        "\r\n",
        "\r\n"
      ]
    },
    {
      "cell_type": "code",
      "metadata": {
        "id": "jFdk0wi_-BB7",
        "colab": {
          "base_uri": "https://localhost:8080/"
        },
        "outputId": "9dcde856-926d-44cd-e555-00f66ec25679"
      },
      "source": [
        "dc.groupby(\"SEVERITYCODE\")[\"SEVERITYCODE\"].count()  #count does not include null."
      ],
      "execution_count": null,
      "outputs": [
        {
          "output_type": "execute_result",
          "data": {
            "text/plain": [
              "SEVERITYCODE\n",
              "0      21656\n",
              "1     137776\n",
              "2      58842\n",
              "2b      3111\n",
              "3        352\n",
              "Name: SEVERITYCODE, dtype: int64"
            ]
          },
          "metadata": {
            "tags": []
          },
          "execution_count": 105
        }
      ]
    },
    {
      "cell_type": "code",
      "metadata": {
        "colab": {
          "base_uri": "https://localhost:8080/"
        },
        "id": "A7ODNn05rSIm",
        "outputId": "73b55d1c-6c32-48d4-9de3-d8639198c97c"
      },
      "source": [
        "dc.groupby([\"SEVERITYCODE\",'SEVERITYDESC'])[\"SEVERITYCODE\"].count() \r\n",
        "# why is dtype: int64?  It is a text field"
      ],
      "execution_count": null,
      "outputs": [
        {
          "output_type": "execute_result",
          "data": {
            "text/plain": [
              "SEVERITYCODE  SEVERITYDESC                  \n",
              "0             Unknown                            21656\n",
              "1             Property Damage Only Collision    137776\n",
              "2             Injury Collision                   58842\n",
              "2b            Serious Injury Collision            3111\n",
              "3             Fatality Collision                   352\n",
              "Name: SEVERITYCODE, dtype: int64"
            ]
          },
          "metadata": {
            "tags": []
          },
          "execution_count": 106
        }
      ]
    },
    {
      "cell_type": "code",
      "metadata": {
        "colab": {
          "base_uri": "https://localhost:8080/",
          "height": 170
        },
        "id": "5WY0LEcdi7SW",
        "outputId": "1814c12b-09e2-4fbc-a3cb-08e40a2294ae"
      },
      "source": [
        "dc[dc['SEVERITYCODE'].isnull()] "
      ],
      "execution_count": null,
      "outputs": [
        {
          "output_type": "execute_result",
          "data": {
            "text/html": [
              "<div>\n",
              "<style scoped>\n",
              "    .dataframe tbody tr th:only-of-type {\n",
              "        vertical-align: middle;\n",
              "    }\n",
              "\n",
              "    .dataframe tbody tr th {\n",
              "        vertical-align: top;\n",
              "    }\n",
              "\n",
              "    .dataframe thead th {\n",
              "        text-align: right;\n",
              "    }\n",
              "</style>\n",
              "<table border=\"1\" class=\"dataframe\">\n",
              "  <thead>\n",
              "    <tr style=\"text-align: right;\">\n",
              "      <th></th>\n",
              "      <th>X</th>\n",
              "      <th>Y</th>\n",
              "      <th>OBJECTID</th>\n",
              "      <th>INCKEY</th>\n",
              "      <th>COLDETKEY</th>\n",
              "      <th>REPORTNO</th>\n",
              "      <th>STATUS</th>\n",
              "      <th>ADDRTYPE</th>\n",
              "      <th>INTKEY</th>\n",
              "      <th>LOCATION</th>\n",
              "      <th>EXCEPTRSNCODE</th>\n",
              "      <th>EXCEPTRSNDESC</th>\n",
              "      <th>SEVERITYCODE</th>\n",
              "      <th>SEVERITYDESC</th>\n",
              "      <th>COLLISIONTYPE</th>\n",
              "      <th>PERSONCOUNT</th>\n",
              "      <th>PEDCOUNT</th>\n",
              "      <th>PEDCYLCOUNT</th>\n",
              "      <th>VEHCOUNT</th>\n",
              "      <th>INJURIES</th>\n",
              "      <th>SERIOUSINJURIES</th>\n",
              "      <th>FATALITIES</th>\n",
              "      <th>INCDATE</th>\n",
              "      <th>INCDTTM</th>\n",
              "      <th>JUNCTIONTYPE</th>\n",
              "      <th>SDOT_COLCODE</th>\n",
              "      <th>SDOT_COLDESC</th>\n",
              "      <th>INATTENTIONIND</th>\n",
              "      <th>UNDERINFL</th>\n",
              "      <th>WEATHER</th>\n",
              "      <th>ROADCOND</th>\n",
              "      <th>LIGHTCOND</th>\n",
              "      <th>PEDROWNOTGRNT</th>\n",
              "      <th>SDOTCOLNUM</th>\n",
              "      <th>SPEEDING</th>\n",
              "      <th>ST_COLCODE</th>\n",
              "      <th>ST_COLDESC</th>\n",
              "      <th>SEGLANEKEY</th>\n",
              "      <th>CROSSWALKKEY</th>\n",
              "      <th>HITPARKEDCAR</th>\n",
              "    </tr>\n",
              "  </thead>\n",
              "  <tbody>\n",
              "    <tr>\n",
              "      <th>195398</th>\n",
              "      <td>-122.327646</td>\n",
              "      <td>47.630597</td>\n",
              "      <td>195399</td>\n",
              "      <td>270579</td>\n",
              "      <td>271399</td>\n",
              "      <td>3753394</td>\n",
              "      <td>Matched</td>\n",
              "      <td>Intersection</td>\n",
              "      <td>29084.0</td>\n",
              "      <td>EASTLAKE AVE E AND E NELSON PL</td>\n",
              "      <td></td>\n",
              "      <td>NaN</td>\n",
              "      <td>NaN</td>\n",
              "      <td>Unknown</td>\n",
              "      <td>NaN</td>\n",
              "      <td>2</td>\n",
              "      <td>0</td>\n",
              "      <td>1</td>\n",
              "      <td>1</td>\n",
              "      <td>0</td>\n",
              "      <td>0</td>\n",
              "      <td>0</td>\n",
              "      <td>2018/02/14 00:00:00+00</td>\n",
              "      <td>2/14/2018 7:50:00 AM</td>\n",
              "      <td>At Intersection (intersection related)</td>\n",
              "      <td>18.0</td>\n",
              "      <td>MOTOR VEHICLE STRUCK PEDALCYCLIST, FRONT END A...</td>\n",
              "      <td>NaN</td>\n",
              "      <td>N</td>\n",
              "      <td>Overcast</td>\n",
              "      <td>Wet</td>\n",
              "      <td>Daylight</td>\n",
              "      <td>NaN</td>\n",
              "      <td>NaN</td>\n",
              "      <td>NaN</td>\n",
              "      <td>NaN</td>\n",
              "      <td>NaN</td>\n",
              "      <td>0</td>\n",
              "      <td>0</td>\n",
              "      <td>N</td>\n",
              "    </tr>\n",
              "  </tbody>\n",
              "</table>\n",
              "</div>"
            ],
            "text/plain": [
              "                 X          Y  OBJECTID  ...  SEGLANEKEY  CROSSWALKKEY HITPARKEDCAR\n",
              "195398 -122.327646  47.630597    195399  ...           0             0            N\n",
              "\n",
              "[1 rows x 40 columns]"
            ]
          },
          "metadata": {
            "tags": []
          },
          "execution_count": 107
        }
      ]
    },
    {
      "cell_type": "markdown",
      "metadata": {
        "id": "jn68l_3a0Il2"
      },
      "source": [
        "Fill the SEVERITYCODE is null record with value of 0 as SEVERITYDESC is UNKNOWN"
      ]
    },
    {
      "cell_type": "code",
      "metadata": {
        "id": "PPYXf4I-ytr5"
      },
      "source": [
        "# need to use '0' instead of 0 for string.  Otherwise, the freq of SEVERITYCODE\n",
        "# shows two rows for 0 (one for the text value, the other for the numeric value)\n",
        "\n",
        "dc['SEVERITYCODE'].fillna('0',inplace=True) "
      ],
      "execution_count": null,
      "outputs": []
    },
    {
      "cell_type": "code",
      "metadata": {
        "colab": {
          "base_uri": "https://localhost:8080/"
        },
        "id": "AVdoVsgoweSS",
        "outputId": "513c4577-f754-4781-8121-a1911a9e56ae"
      },
      "source": [
        "dc.groupby([\"SEVERITYCODE\"])[\"SEVERITYCODE\"].count() \r\n",
        "#dc.groupby([\"SEVERITYCODE\"]).count() "
      ],
      "execution_count": null,
      "outputs": [
        {
          "output_type": "execute_result",
          "data": {
            "text/plain": [
              "SEVERITYCODE\n",
              "0      21657\n",
              "1     137776\n",
              "2      58842\n",
              "2b      3111\n",
              "3        352\n",
              "Name: SEVERITYCODE, dtype: int64"
            ]
          },
          "metadata": {
            "tags": []
          },
          "execution_count": 109
        }
      ]
    },
    {
      "cell_type": "markdown",
      "metadata": {
        "id": "oMKy2gD72Xtl"
      },
      "source": [
        "Drop ROWS with SEVERITYCODE = 0"
      ]
    },
    {
      "cell_type": "code",
      "metadata": {
        "id": "xbuRVnNy2Vjp"
      },
      "source": [
        "dc.drop(dc[dc['SEVERITYCODE']=='0'].index, inplace=True)"
      ],
      "execution_count": null,
      "outputs": []
    },
    {
      "cell_type": "code",
      "metadata": {
        "colab": {
          "base_uri": "https://localhost:8080/"
        },
        "id": "jej_qdz-4aHY",
        "outputId": "dbcb6b0b-fef9-434a-8e85-515f25a6fbd9"
      },
      "source": [
        "dc.groupby([\"SEVERITYCODE\"])[\"SEVERITYCODE\"].count() \r\n",
        "#rows have been dropped"
      ],
      "execution_count": null,
      "outputs": [
        {
          "output_type": "execute_result",
          "data": {
            "text/plain": [
              "SEVERITYCODE\n",
              "1     137776\n",
              "2      58842\n",
              "2b      3111\n",
              "3        352\n",
              "Name: SEVERITYCODE, dtype: int64"
            ]
          },
          "metadata": {
            "tags": []
          },
          "execution_count": 111
        }
      ]
    },
    {
      "cell_type": "code",
      "metadata": {
        "colab": {
          "base_uri": "https://localhost:8080/"
        },
        "id": "g6fpFUb05uDR",
        "outputId": "a9631031-ed78-4635-ca9b-e58b22715b67"
      },
      "source": [
        "print(dc.shape)"
      ],
      "execution_count": null,
      "outputs": [
        {
          "output_type": "stream",
          "text": [
            "(200081, 40)\n"
          ],
          "name": "stdout"
        }
      ]
    },
    {
      "cell_type": "markdown",
      "metadata": {
        "id": "PEyEI0GQ8oCE"
      },
      "source": [
        "Create a new variable SEVERITY_NEW (1 = Fatal, 0 = Non-Fatal)"
      ]
    },
    {
      "cell_type": "code",
      "metadata": {
        "id": "WKxP-gZbw4rk"
      },
      "source": [
        "dc['SEVERITYCODE']=np.where(dc['SEVERITYCODE']=='1',0, dc['SEVERITYCODE'])\n",
        "dc['SEVERITYCODE']=np.where(dc['SEVERITYCODE']=='2',0, dc['SEVERITYCODE'])\n",
        "dc['SEVERITYCODE']=np.where(dc['SEVERITYCODE']=='2b',1, dc['SEVERITYCODE'])\n",
        "dc['SEVERITYCODE']=np.where(dc['SEVERITYCODE']=='3',1, dc['SEVERITYCODE'])\n",
        "\n",
        "#question - didn't quite work if assign to a new column."
      ],
      "execution_count": null,
      "outputs": []
    },
    {
      "cell_type": "code",
      "metadata": {
        "id": "oVckqWWM7NON",
        "colab": {
          "base_uri": "https://localhost:8080/"
        },
        "outputId": "45419109-1a37-479d-a62b-488c76ef3feb"
      },
      "source": [
        "dc.groupby([dc['SEVERITYCODE']=='3'])['SEVERITYCODE'].count()"
      ],
      "execution_count": null,
      "outputs": [
        {
          "output_type": "execute_result",
          "data": {
            "text/plain": [
              "SEVERITYCODE\n",
              "False    200081\n",
              "Name: SEVERITYCODE, dtype: int64"
            ]
          },
          "metadata": {
            "tags": []
          },
          "execution_count": 114
        }
      ]
    },
    {
      "cell_type": "code",
      "metadata": {
        "id": "tjd0B22t9dd5",
        "colab": {
          "base_uri": "https://localhost:8080/"
        },
        "outputId": "523d899f-b4e1-4270-828c-af28bd7c1ab5"
      },
      "source": [
        "dc.groupby(\"SEVERITYCODE\")[\"SEVERITYCODE\"].count()"
      ],
      "execution_count": null,
      "outputs": [
        {
          "output_type": "execute_result",
          "data": {
            "text/plain": [
              "SEVERITYCODE\n",
              "0    196618\n",
              "1      3463\n",
              "Name: SEVERITYCODE, dtype: int64"
            ]
          },
          "metadata": {
            "tags": []
          },
          "execution_count": 115
        }
      ]
    },
    {
      "cell_type": "code",
      "metadata": {
        "colab": {
          "base_uri": "https://localhost:8080/"
        },
        "id": "lyCB_wedWXro",
        "outputId": "daa714b0-912a-4c9d-9ac3-b842f1d9425d"
      },
      "source": [
        "(dc[\"SEVERITYCODE\"].isnull()==True).sum()"
      ],
      "execution_count": null,
      "outputs": [
        {
          "output_type": "execute_result",
          "data": {
            "text/plain": [
              "0"
            ]
          },
          "metadata": {
            "tags": []
          },
          "execution_count": 116
        }
      ]
    },
    {
      "cell_type": "markdown",
      "metadata": {
        "id": "Yo-O3mZdVKsI"
      },
      "source": [
        "# Predictors"
      ]
    },
    {
      "cell_type": "markdown",
      "metadata": {
        "id": "4-CRvTMMJskZ"
      },
      "source": [
        "Keep 7 predictors that look relevant and have data"
      ]
    },
    {
      "cell_type": "code",
      "metadata": {
        "id": "DPrdCSKRSvfA",
        "colab": {
          "base_uri": "https://localhost:8080/",
          "height": 1000
        },
        "outputId": "2f9ada1c-51d0-47b6-9437-154ec3b75846"
      },
      "source": [
        "dc2=dc[['SEVERITYCODE','ADDRTYPE','COLLISIONTYPE','JUNCTIONTYPE','UNDERINFL','WEATHER','ROADCOND','LIGHTCOND']]\n",
        "dc2.shape\n",
        "dc2.head(20)\n",
        "\n"
      ],
      "execution_count": null,
      "outputs": [
        {
          "output_type": "execute_result",
          "data": {
            "text/html": [
              "<div>\n",
              "<style scoped>\n",
              "    .dataframe tbody tr th:only-of-type {\n",
              "        vertical-align: middle;\n",
              "    }\n",
              "\n",
              "    .dataframe tbody tr th {\n",
              "        vertical-align: top;\n",
              "    }\n",
              "\n",
              "    .dataframe thead th {\n",
              "        text-align: right;\n",
              "    }\n",
              "</style>\n",
              "<table border=\"1\" class=\"dataframe\">\n",
              "  <thead>\n",
              "    <tr style=\"text-align: right;\">\n",
              "      <th></th>\n",
              "      <th>SEVERITYCODE</th>\n",
              "      <th>ADDRTYPE</th>\n",
              "      <th>COLLISIONTYPE</th>\n",
              "      <th>JUNCTIONTYPE</th>\n",
              "      <th>UNDERINFL</th>\n",
              "      <th>WEATHER</th>\n",
              "      <th>ROADCOND</th>\n",
              "      <th>LIGHTCOND</th>\n",
              "    </tr>\n",
              "  </thead>\n",
              "  <tbody>\n",
              "    <tr>\n",
              "      <th>0</th>\n",
              "      <td>0</td>\n",
              "      <td>Intersection</td>\n",
              "      <td>Angles</td>\n",
              "      <td>At Intersection (intersection related)</td>\n",
              "      <td>N</td>\n",
              "      <td>Clear</td>\n",
              "      <td>Dry</td>\n",
              "      <td>Daylight</td>\n",
              "    </tr>\n",
              "    <tr>\n",
              "      <th>1</th>\n",
              "      <td>0</td>\n",
              "      <td>Block</td>\n",
              "      <td>Rear Ended</td>\n",
              "      <td>Mid-Block (not related to intersection)</td>\n",
              "      <td>0</td>\n",
              "      <td>Raining</td>\n",
              "      <td>Wet</td>\n",
              "      <td>Dusk</td>\n",
              "    </tr>\n",
              "    <tr>\n",
              "      <th>2</th>\n",
              "      <td>0</td>\n",
              "      <td>Block</td>\n",
              "      <td>Head On</td>\n",
              "      <td>Mid-Block (not related to intersection)</td>\n",
              "      <td>N</td>\n",
              "      <td>Clear</td>\n",
              "      <td>Dry</td>\n",
              "      <td>Dark - Street Lights On</td>\n",
              "    </tr>\n",
              "    <tr>\n",
              "      <th>3</th>\n",
              "      <td>0</td>\n",
              "      <td>Intersection</td>\n",
              "      <td>Pedestrian</td>\n",
              "      <td>At Intersection (intersection related)</td>\n",
              "      <td>N</td>\n",
              "      <td>Raining</td>\n",
              "      <td>Wet</td>\n",
              "      <td>Dark - Street Lights On</td>\n",
              "    </tr>\n",
              "    <tr>\n",
              "      <th>4</th>\n",
              "      <td>0</td>\n",
              "      <td>Block</td>\n",
              "      <td>Other</td>\n",
              "      <td>Mid-Block (not related to intersection)</td>\n",
              "      <td>0</td>\n",
              "      <td>Clear</td>\n",
              "      <td>Ice</td>\n",
              "      <td>Dark - Street Lights On</td>\n",
              "    </tr>\n",
              "    <tr>\n",
              "      <th>5</th>\n",
              "      <td>0</td>\n",
              "      <td>Block</td>\n",
              "      <td>Rear Ended</td>\n",
              "      <td>Mid-Block (not related to intersection)</td>\n",
              "      <td>N</td>\n",
              "      <td>Clear</td>\n",
              "      <td>Dry</td>\n",
              "      <td>Daylight</td>\n",
              "    </tr>\n",
              "    <tr>\n",
              "      <th>6</th>\n",
              "      <td>0</td>\n",
              "      <td>Block</td>\n",
              "      <td>Cycles</td>\n",
              "      <td>Mid-Block (not related to intersection)</td>\n",
              "      <td>N</td>\n",
              "      <td>Overcast</td>\n",
              "      <td>Dry</td>\n",
              "      <td>Daylight</td>\n",
              "    </tr>\n",
              "    <tr>\n",
              "      <th>7</th>\n",
              "      <td>0</td>\n",
              "      <td>NaN</td>\n",
              "      <td>Parked Car</td>\n",
              "      <td>Mid-Block (not related to intersection)</td>\n",
              "      <td>0</td>\n",
              "      <td>Clear</td>\n",
              "      <td>Dry</td>\n",
              "      <td>Daylight</td>\n",
              "    </tr>\n",
              "    <tr>\n",
              "      <th>8</th>\n",
              "      <td>1</td>\n",
              "      <td>Block</td>\n",
              "      <td>Rear Ended</td>\n",
              "      <td>Mid-Block (not related to intersection)</td>\n",
              "      <td>0</td>\n",
              "      <td>Clear</td>\n",
              "      <td>Dry</td>\n",
              "      <td>Daylight</td>\n",
              "    </tr>\n",
              "    <tr>\n",
              "      <th>9</th>\n",
              "      <td>0</td>\n",
              "      <td>Block</td>\n",
              "      <td>Rear Ended</td>\n",
              "      <td>Mid-Block (but intersection related)</td>\n",
              "      <td>0</td>\n",
              "      <td>Clear</td>\n",
              "      <td>Wet</td>\n",
              "      <td>Dusk</td>\n",
              "    </tr>\n",
              "    <tr>\n",
              "      <th>11</th>\n",
              "      <td>0</td>\n",
              "      <td>Block</td>\n",
              "      <td>Angles</td>\n",
              "      <td>Driveway Junction</td>\n",
              "      <td>0</td>\n",
              "      <td>Clear</td>\n",
              "      <td>Dry</td>\n",
              "      <td>Daylight</td>\n",
              "    </tr>\n",
              "    <tr>\n",
              "      <th>12</th>\n",
              "      <td>0</td>\n",
              "      <td>Block</td>\n",
              "      <td>Cycles</td>\n",
              "      <td>Driveway Junction</td>\n",
              "      <td>N</td>\n",
              "      <td>Clear</td>\n",
              "      <td>Dry</td>\n",
              "      <td>Daylight</td>\n",
              "    </tr>\n",
              "    <tr>\n",
              "      <th>13</th>\n",
              "      <td>0</td>\n",
              "      <td>Block</td>\n",
              "      <td>Other</td>\n",
              "      <td>Driveway Junction</td>\n",
              "      <td>0</td>\n",
              "      <td>Clear</td>\n",
              "      <td>Dry</td>\n",
              "      <td>Daylight</td>\n",
              "    </tr>\n",
              "    <tr>\n",
              "      <th>14</th>\n",
              "      <td>0</td>\n",
              "      <td>Block</td>\n",
              "      <td>Other</td>\n",
              "      <td>Mid-Block (not related to intersection)</td>\n",
              "      <td>0</td>\n",
              "      <td>Unknown</td>\n",
              "      <td>Unknown</td>\n",
              "      <td>Unknown</td>\n",
              "    </tr>\n",
              "    <tr>\n",
              "      <th>15</th>\n",
              "      <td>0</td>\n",
              "      <td>Intersection</td>\n",
              "      <td>Cycles</td>\n",
              "      <td>At Intersection (intersection related)</td>\n",
              "      <td>0</td>\n",
              "      <td>Clear</td>\n",
              "      <td>Dry</td>\n",
              "      <td>Daylight</td>\n",
              "    </tr>\n",
              "    <tr>\n",
              "      <th>16</th>\n",
              "      <td>0</td>\n",
              "      <td>Block</td>\n",
              "      <td>Parked Car</td>\n",
              "      <td>Mid-Block (not related to intersection)</td>\n",
              "      <td>N</td>\n",
              "      <td>Clear</td>\n",
              "      <td>Dry</td>\n",
              "      <td>Daylight</td>\n",
              "    </tr>\n",
              "    <tr>\n",
              "      <th>17</th>\n",
              "      <td>0</td>\n",
              "      <td>NaN</td>\n",
              "      <td>Parked Car</td>\n",
              "      <td>Mid-Block (not related to intersection)</td>\n",
              "      <td>N</td>\n",
              "      <td>Unknown</td>\n",
              "      <td>Unknown</td>\n",
              "      <td>Unknown</td>\n",
              "    </tr>\n",
              "    <tr>\n",
              "      <th>19</th>\n",
              "      <td>0</td>\n",
              "      <td>Block</td>\n",
              "      <td>Parked Car</td>\n",
              "      <td>Mid-Block (not related to intersection)</td>\n",
              "      <td>N</td>\n",
              "      <td>Overcast</td>\n",
              "      <td>Dry</td>\n",
              "      <td>Daylight</td>\n",
              "    </tr>\n",
              "    <tr>\n",
              "      <th>20</th>\n",
              "      <td>0</td>\n",
              "      <td>Block</td>\n",
              "      <td>Other</td>\n",
              "      <td>Mid-Block (not related to intersection)</td>\n",
              "      <td>0</td>\n",
              "      <td>Raining</td>\n",
              "      <td>Wet</td>\n",
              "      <td>Dark - Street Lights On</td>\n",
              "    </tr>\n",
              "    <tr>\n",
              "      <th>22</th>\n",
              "      <td>0</td>\n",
              "      <td>Block</td>\n",
              "      <td>Parked Car</td>\n",
              "      <td>Mid-Block (not related to intersection)</td>\n",
              "      <td>N</td>\n",
              "      <td>Clear</td>\n",
              "      <td>Dry</td>\n",
              "      <td>Daylight</td>\n",
              "    </tr>\n",
              "  </tbody>\n",
              "</table>\n",
              "</div>"
            ],
            "text/plain": [
              "   SEVERITYCODE      ADDRTYPE  ... ROADCOND                LIGHTCOND\n",
              "0             0  Intersection  ...      Dry                 Daylight\n",
              "1             0         Block  ...      Wet                     Dusk\n",
              "2             0         Block  ...      Dry  Dark - Street Lights On\n",
              "3             0  Intersection  ...      Wet  Dark - Street Lights On\n",
              "4             0         Block  ...      Ice  Dark - Street Lights On\n",
              "5             0         Block  ...      Dry                 Daylight\n",
              "6             0         Block  ...      Dry                 Daylight\n",
              "7             0           NaN  ...      Dry                 Daylight\n",
              "8             1         Block  ...      Dry                 Daylight\n",
              "9             0         Block  ...      Wet                     Dusk\n",
              "11            0         Block  ...      Dry                 Daylight\n",
              "12            0         Block  ...      Dry                 Daylight\n",
              "13            0         Block  ...      Dry                 Daylight\n",
              "14            0         Block  ...  Unknown                  Unknown\n",
              "15            0  Intersection  ...      Dry                 Daylight\n",
              "16            0         Block  ...      Dry                 Daylight\n",
              "17            0           NaN  ...  Unknown                  Unknown\n",
              "19            0         Block  ...      Dry                 Daylight\n",
              "20            0         Block  ...      Wet  Dark - Street Lights On\n",
              "22            0         Block  ...      Dry                 Daylight\n",
              "\n",
              "[20 rows x 8 columns]"
            ]
          },
          "metadata": {
            "tags": []
          },
          "execution_count": 117
        }
      ]
    },
    {
      "cell_type": "code",
      "metadata": {
        "colab": {
          "base_uri": "https://localhost:8080/",
          "height": 345
        },
        "id": "NoFMn9yE1z0-",
        "outputId": "24aa471b-6f18-4132-d4bf-bd4d29e9735c"
      },
      "source": [
        "# make a copy of dc2\r\n",
        "dc2_copy=dc2\r\n",
        "dc2_copy.head()"
      ],
      "execution_count": null,
      "outputs": [
        {
          "output_type": "execute_result",
          "data": {
            "text/html": [
              "<div>\n",
              "<style scoped>\n",
              "    .dataframe tbody tr th:only-of-type {\n",
              "        vertical-align: middle;\n",
              "    }\n",
              "\n",
              "    .dataframe tbody tr th {\n",
              "        vertical-align: top;\n",
              "    }\n",
              "\n",
              "    .dataframe thead th {\n",
              "        text-align: right;\n",
              "    }\n",
              "</style>\n",
              "<table border=\"1\" class=\"dataframe\">\n",
              "  <thead>\n",
              "    <tr style=\"text-align: right;\">\n",
              "      <th></th>\n",
              "      <th>SEVERITYCODE</th>\n",
              "      <th>ADDRTYPE</th>\n",
              "      <th>COLLISIONTYPE</th>\n",
              "      <th>JUNCTIONTYPE</th>\n",
              "      <th>UNDERINFL</th>\n",
              "      <th>WEATHER</th>\n",
              "      <th>ROADCOND</th>\n",
              "      <th>LIGHTCOND</th>\n",
              "    </tr>\n",
              "  </thead>\n",
              "  <tbody>\n",
              "    <tr>\n",
              "      <th>0</th>\n",
              "      <td>0</td>\n",
              "      <td>Intersection</td>\n",
              "      <td>Angles</td>\n",
              "      <td>At Intersection (intersection related)</td>\n",
              "      <td>N</td>\n",
              "      <td>Clear</td>\n",
              "      <td>Dry</td>\n",
              "      <td>Daylight</td>\n",
              "    </tr>\n",
              "    <tr>\n",
              "      <th>1</th>\n",
              "      <td>0</td>\n",
              "      <td>Block</td>\n",
              "      <td>Rear Ended</td>\n",
              "      <td>Mid-Block (not related to intersection)</td>\n",
              "      <td>0</td>\n",
              "      <td>Raining</td>\n",
              "      <td>Wet</td>\n",
              "      <td>Dusk</td>\n",
              "    </tr>\n",
              "    <tr>\n",
              "      <th>2</th>\n",
              "      <td>0</td>\n",
              "      <td>Block</td>\n",
              "      <td>Head On</td>\n",
              "      <td>Mid-Block (not related to intersection)</td>\n",
              "      <td>N</td>\n",
              "      <td>Clear</td>\n",
              "      <td>Dry</td>\n",
              "      <td>Dark - Street Lights On</td>\n",
              "    </tr>\n",
              "    <tr>\n",
              "      <th>3</th>\n",
              "      <td>0</td>\n",
              "      <td>Intersection</td>\n",
              "      <td>Pedestrian</td>\n",
              "      <td>At Intersection (intersection related)</td>\n",
              "      <td>N</td>\n",
              "      <td>Raining</td>\n",
              "      <td>Wet</td>\n",
              "      <td>Dark - Street Lights On</td>\n",
              "    </tr>\n",
              "    <tr>\n",
              "      <th>4</th>\n",
              "      <td>0</td>\n",
              "      <td>Block</td>\n",
              "      <td>Other</td>\n",
              "      <td>Mid-Block (not related to intersection)</td>\n",
              "      <td>0</td>\n",
              "      <td>Clear</td>\n",
              "      <td>Ice</td>\n",
              "      <td>Dark - Street Lights On</td>\n",
              "    </tr>\n",
              "  </tbody>\n",
              "</table>\n",
              "</div>"
            ],
            "text/plain": [
              "  SEVERITYCODE      ADDRTYPE  ... ROADCOND                LIGHTCOND\n",
              "0            0  Intersection  ...      Dry                 Daylight\n",
              "1            0         Block  ...      Wet                     Dusk\n",
              "2            0         Block  ...      Dry  Dark - Street Lights On\n",
              "3            0  Intersection  ...      Wet  Dark - Street Lights On\n",
              "4            0         Block  ...      Ice  Dark - Street Lights On\n",
              "\n",
              "[5 rows x 8 columns]"
            ]
          },
          "metadata": {
            "tags": []
          },
          "execution_count": 118
        }
      ]
    },
    {
      "cell_type": "markdown",
      "metadata": {
        "id": "t-EVK4gRBCV2"
      },
      "source": [
        "##Data Exploration 1"
      ]
    },
    {
      "cell_type": "markdown",
      "metadata": {
        "id": "QTE8tEu8HyHs"
      },
      "source": [
        "Count cells and rows with missing value"
      ]
    },
    {
      "cell_type": "code",
      "metadata": {
        "id": "jUuWU74eHwcP",
        "colab": {
          "base_uri": "https://localhost:8080/"
        },
        "outputId": "07d5d538-489b-40c8-c88a-373fc2e2626c"
      },
      "source": [
        "# cells with missing value\n",
        "dc2.isnull().values.ravel().sum()\n",
        "#np.count_nonzero(dc2.isnull()) "
      ],
      "execution_count": null,
      "outputs": [
        {
          "output_type": "execute_result",
          "data": {
            "text/plain": [
              "32857"
            ]
          },
          "metadata": {
            "tags": []
          },
          "execution_count": 119
        }
      ]
    },
    {
      "cell_type": "code",
      "metadata": {
        "id": "udS_zLJXRnSC",
        "colab": {
          "base_uri": "https://localhost:8080/"
        },
        "outputId": "2e148772-0886-4ac8-cfac-ddd90a8adc0e"
      },
      "source": [
        "# row with missing value - results - every row has missing value\n",
        "dc2.isna().any(axis = 1).sum()\n",
        "# sum(dc.isnull().values.any(axis=1))"
      ],
      "execution_count": null,
      "outputs": [
        {
          "output_type": "execute_result",
          "data": {
            "text/plain": [
              "11754"
            ]
          },
          "metadata": {
            "tags": []
          },
          "execution_count": 120
        }
      ]
    },
    {
      "cell_type": "code",
      "metadata": {
        "id": "ZTzspO1L3v6-",
        "colab": {
          "base_uri": "https://localhost:8080/"
        },
        "outputId": "fc47d706-d2b7-4982-9da5-d5872c06a7e6"
      },
      "source": [
        "# missing value count for a specified column\n",
        "#(dc2[\"ADDRTYPE\"].isnull()==True).sum()\n",
        "\n",
        "# missing value count for a column\n",
        "dc2.isnull().sum()"
      ],
      "execution_count": null,
      "outputs": [
        {
          "output_type": "execute_result",
          "data": {
            "text/plain": [
              "SEVERITYCODE        0\n",
              "ADDRTYPE         1933\n",
              "COLLISIONTYPE    4796\n",
              "JUNCTIONTYPE     6383\n",
              "UNDERINFL        4776\n",
              "WEATHER          4987\n",
              "ROADCOND         4906\n",
              "LIGHTCOND        5076\n",
              "dtype: int64"
            ]
          },
          "metadata": {
            "tags": []
          },
          "execution_count": 121
        }
      ]
    },
    {
      "cell_type": "markdown",
      "metadata": {
        "id": "ARsRf2enYjrZ"
      },
      "source": [
        "### Variable 1 - 'ADDRTYPE'"
      ]
    },
    {
      "cell_type": "code",
      "metadata": {
        "id": "1HFePLWP9u4s",
        "colab": {
          "base_uri": "https://localhost:8080/"
        },
        "outputId": "b99fffb4-b413-41c9-a1a3-b46664fbba0c"
      },
      "source": [
        "# Frequency by value\n",
        "#(dc2[\"ROADCOND\"].isnull()==True).sum()\n",
        "#dc2.groupby(\"ADDRTYPE\")[\"ADDRTYPE\"].count()\n",
        "dc2.groupby([\"SEVERITYCODE\",\"ADDRTYPE\"])[\"SEVERITYCODE\"].count()"
      ],
      "execution_count": null,
      "outputs": [
        {
          "output_type": "execute_result",
          "data": {
            "text/plain": [
              "SEVERITYCODE  ADDRTYPE    \n",
              "0             Alley              759\n",
              "              Block           128127\n",
              "              Intersection     65802\n",
              "1             Alley                5\n",
              "              Block             1725\n",
              "              Intersection      1730\n",
              "Name: SEVERITYCODE, dtype: int64"
            ]
          },
          "metadata": {
            "tags": []
          },
          "execution_count": 122
        }
      ]
    },
    {
      "cell_type": "code",
      "metadata": {
        "id": "1rvHejr8crkV",
        "colab": {
          "base_uri": "https://localhost:8080/"
        },
        "outputId": "b84397e4-f010-40d6-98a9-042a41d12ac3"
      },
      "source": [
        "# missing value count GROUP BY SEVERITYCODE\r\n",
        "dc2.groupby(['SEVERITYCODE'])['ADDRTYPE'].apply(lambda x: x.isnull().sum())"
      ],
      "execution_count": null,
      "outputs": [
        {
          "output_type": "execute_result",
          "data": {
            "text/plain": [
              "SEVERITYCODE\n",
              "0    1930\n",
              "1       3\n",
              "Name: ADDRTYPE, dtype: int64"
            ]
          },
          "metadata": {
            "tags": []
          },
          "execution_count": 123
        }
      ]
    },
    {
      "cell_type": "code",
      "metadata": {
        "colab": {
          "base_uri": "https://localhost:8080/"
        },
        "id": "fO30BH5QtcSk",
        "outputId": "a5b8b0b2-cc3a-43d6-ea77-b4c1dc856ac0"
      },
      "source": [
        "# assign \"other\" to cells with missing value\r\n",
        "\r\n",
        "dc2.loc[dc2['ADDRTYPE'].isnull()==False, 'ADDRTYPE_NEW'] = dc2['ADDRTYPE']\r\n",
        "dc2.loc[dc2['ADDRTYPE'].isnull()== True, 'ADDRTYPE_NEW'] = 'Unknown' "
      ],
      "execution_count": null,
      "outputs": [
        {
          "output_type": "stream",
          "text": [
            "/usr/local/lib/python3.6/dist-packages/pandas/core/indexing.py:1596: SettingWithCopyWarning: \n",
            "A value is trying to be set on a copy of a slice from a DataFrame.\n",
            "Try using .loc[row_indexer,col_indexer] = value instead\n",
            "\n",
            "See the caveats in the documentation: https://pandas.pydata.org/pandas-docs/stable/user_guide/indexing.html#returning-a-view-versus-a-copy\n",
            "  self.obj[key] = _infer_fill_value(value)\n",
            "/usr/local/lib/python3.6/dist-packages/pandas/core/indexing.py:1743: SettingWithCopyWarning: \n",
            "A value is trying to be set on a copy of a slice from a DataFrame.\n",
            "Try using .loc[row_indexer,col_indexer] = value instead\n",
            "\n",
            "See the caveats in the documentation: https://pandas.pydata.org/pandas-docs/stable/user_guide/indexing.html#returning-a-view-versus-a-copy\n",
            "  isetter(ilocs[0], value)\n",
            "/usr/local/lib/python3.6/dist-packages/pandas/core/indexing.py:670: SettingWithCopyWarning: \n",
            "A value is trying to be set on a copy of a slice from a DataFrame\n",
            "\n",
            "See the caveats in the documentation: https://pandas.pydata.org/pandas-docs/stable/user_guide/indexing.html#returning-a-view-versus-a-copy\n",
            "  iloc._setitem_with_indexer(indexer, value)\n",
            "/usr/local/lib/python3.6/dist-packages/ipykernel_launcher.py:4: SettingWithCopyWarning: \n",
            "A value is trying to be set on a copy of a slice from a DataFrame\n",
            "\n",
            "See the caveats in the documentation: https://pandas.pydata.org/pandas-docs/stable/user_guide/indexing.html#returning-a-view-versus-a-copy\n",
            "  after removing the cwd from sys.path.\n"
          ],
          "name": "stderr"
        }
      ]
    },
    {
      "cell_type": "code",
      "metadata": {
        "colab": {
          "base_uri": "https://localhost:8080/"
        },
        "id": "kArbm0DH16X5",
        "outputId": "bee5c72c-01c8-4ff4-b447-5ebeecd73dc5"
      },
      "source": [
        "(dc2[\"ADDRTYPE_NEW\"].isnull()==True).sum()"
      ],
      "execution_count": null,
      "outputs": [
        {
          "output_type": "execute_result",
          "data": {
            "text/plain": [
              "0"
            ]
          },
          "metadata": {
            "tags": []
          },
          "execution_count": 125
        }
      ]
    },
    {
      "cell_type": "code",
      "metadata": {
        "colab": {
          "base_uri": "https://localhost:8080/"
        },
        "id": "QjQ55ti82BNT",
        "outputId": "fcecc0d1-49a0-4ac0-e8e1-b09d8d90d117"
      },
      "source": [
        "dc2.groupby([\"SEVERITYCODE\",\"ADDRTYPE_NEW\"])[\"SEVERITYCODE\"].count()"
      ],
      "execution_count": null,
      "outputs": [
        {
          "output_type": "execute_result",
          "data": {
            "text/plain": [
              "SEVERITYCODE  ADDRTYPE_NEW\n",
              "0             Alley              759\n",
              "              Block           128127\n",
              "              Intersection     65802\n",
              "              Unknown           1930\n",
              "1             Alley                5\n",
              "              Block             1725\n",
              "              Intersection      1730\n",
              "              Unknown              3\n",
              "Name: SEVERITYCODE, dtype: int64"
            ]
          },
          "metadata": {
            "tags": []
          },
          "execution_count": 126
        }
      ]
    },
    {
      "cell_type": "markdown",
      "metadata": {
        "id": "_OG67UgfZ2j-"
      },
      "source": [
        "### Variable 2 - 'COLLISIONTYPE' (not going to use)"
      ]
    },
    {
      "cell_type": "code",
      "metadata": {
        "id": "vI1IrwUuZkFe",
        "colab": {
          "base_uri": "https://localhost:8080/"
        },
        "outputId": "ff4094c8-e2d4-4c4f-be2e-1cfa16a033f3"
      },
      "source": [
        "#dc2.groupby(\"INATTENTIONIND\")[\"INATTENTIONIND\"].count()\n",
        "dc2.groupby([\"SEVERITYCODE\",\"COLLISIONTYPE\"])[\"SEVERITYCODE\"].count()"
      ],
      "execution_count": null,
      "outputs": [
        {
          "output_type": "execute_result",
          "data": {
            "text/plain": [
              "SEVERITYCODE  COLLISIONTYPE\n",
              "0             Angles           35117\n",
              "              Cycles            5485\n",
              "              Head On           2060\n",
              "              Left Turn        13830\n",
              "              Other            23996\n",
              "              Parked Car       48423\n",
              "              Pedestrian        6685\n",
              "              Rear Ended       34470\n",
              "              Right Turn        2995\n",
              "              Sideswipe        18819\n",
              "1             Angles             471\n",
              "              Cycles             451\n",
              "              Head On            129\n",
              "              Left Turn          291\n",
              "              Other              605\n",
              "              Parked Car         135\n",
              "              Pedestrian         983\n",
              "              Rear Ended         236\n",
              "              Right Turn          23\n",
              "              Sideswipe           81\n",
              "Name: SEVERITYCODE, dtype: int64"
            ]
          },
          "metadata": {
            "tags": []
          },
          "execution_count": 127
        }
      ]
    },
    {
      "cell_type": "code",
      "metadata": {
        "id": "-nXyx9JScnoG",
        "colab": {
          "base_uri": "https://localhost:8080/"
        },
        "outputId": "52b8e264-f406-47ed-af90-0844e9bb50a5"
      },
      "source": [
        "dc2.groupby(['SEVERITYCODE'])['COLLISIONTYPE'].apply(lambda x: x.isnull().sum())"
      ],
      "execution_count": null,
      "outputs": [
        {
          "output_type": "execute_result",
          "data": {
            "text/plain": [
              "SEVERITYCODE\n",
              "0    4738\n",
              "1      58\n",
              "Name: COLLISIONTYPE, dtype: int64"
            ]
          },
          "metadata": {
            "tags": []
          },
          "execution_count": 128
        }
      ]
    },
    {
      "cell_type": "code",
      "metadata": {
        "colab": {
          "base_uri": "https://localhost:8080/"
        },
        "id": "azqlMcYn9a04",
        "outputId": "9f3b424a-022e-445b-a8b0-621c50c3e98b"
      },
      "source": [
        "dc2.COLLISIONTYPE.replace(np.NaN,'Other', inplace=True)"
      ],
      "execution_count": null,
      "outputs": [
        {
          "output_type": "stream",
          "text": [
            "/usr/local/lib/python3.6/dist-packages/pandas/core/series.py:4582: SettingWithCopyWarning: \n",
            "A value is trying to be set on a copy of a slice from a DataFrame\n",
            "\n",
            "See the caveats in the documentation: https://pandas.pydata.org/pandas-docs/stable/user_guide/indexing.html#returning-a-view-versus-a-copy\n",
            "  method=method,\n"
          ],
          "name": "stderr"
        }
      ]
    },
    {
      "cell_type": "code",
      "metadata": {
        "colab": {
          "base_uri": "https://localhost:8080/"
        },
        "id": "LDM9qIFm9sob",
        "outputId": "9eea3a49-3a51-4b33-f100-e7d0c8da3541"
      },
      "source": [
        "dc2.groupby(['SEVERITYCODE'])['COLLISIONTYPE'].apply(lambda x: x.isnull().sum())"
      ],
      "execution_count": null,
      "outputs": [
        {
          "output_type": "execute_result",
          "data": {
            "text/plain": [
              "SEVERITYCODE\n",
              "0    0\n",
              "1    0\n",
              "Name: COLLISIONTYPE, dtype: int64"
            ]
          },
          "metadata": {
            "tags": []
          },
          "execution_count": 130
        }
      ]
    },
    {
      "cell_type": "markdown",
      "metadata": {
        "id": "9o5hh6oIaMci"
      },
      "source": [
        "### Variable 3 - 'UNDERINFL'"
      ]
    },
    {
      "cell_type": "code",
      "metadata": {
        "id": "TMbsF89raLAX",
        "colab": {
          "base_uri": "https://localhost:8080/"
        },
        "outputId": "c9ecacc4-7f7a-4d24-bd55-80d83f0b40cb"
      },
      "source": [
        "#dc2.groupby(\"UNDERINFL\")[\"UNDERINFL\"].count()\n",
        "dc2.groupby([\"SEVERITYCODE\",\"UNDERINFL\"])[\"SEVERITYCODE\"].count()"
      ],
      "execution_count": null,
      "outputs": [
        {
          "output_type": "execute_result",
          "data": {
            "text/plain": [
              "SEVERITYCODE  UNDERINFL\n",
              "0             0             80392\n",
              "              1              3995\n",
              "              N            102384\n",
              "              Y              5129\n",
              "1             0              1284\n",
              "              1               235\n",
              "              N              1616\n",
              "              Y               270\n",
              "Name: SEVERITYCODE, dtype: int64"
            ]
          },
          "metadata": {
            "tags": []
          },
          "execution_count": 131
        }
      ]
    },
    {
      "cell_type": "code",
      "metadata": {
        "id": "6VjNz8NvaLUi",
        "colab": {
          "base_uri": "https://localhost:8080/"
        },
        "outputId": "43a854e1-bc47-4a34-88d3-795ab6674a85"
      },
      "source": [
        "(dc2[\"UNDERINFL\"].isnull()==True).sum()"
      ],
      "execution_count": null,
      "outputs": [
        {
          "output_type": "execute_result",
          "data": {
            "text/plain": [
              "4776"
            ]
          },
          "metadata": {
            "tags": []
          },
          "execution_count": 132
        }
      ]
    },
    {
      "cell_type": "code",
      "metadata": {
        "id": "-lN6_1DDcZY-",
        "colab": {
          "base_uri": "https://localhost:8080/"
        },
        "outputId": "715b9ed5-66e9-450e-a7be-bfaa6a45a2c4"
      },
      "source": [
        "dc2.groupby(['SEVERITYCODE'])['UNDERINFL'].apply(lambda x: x.isnull().sum())"
      ],
      "execution_count": null,
      "outputs": [
        {
          "output_type": "execute_result",
          "data": {
            "text/plain": [
              "SEVERITYCODE\n",
              "0    4718\n",
              "1      58\n",
              "Name: UNDERINFL, dtype: int64"
            ]
          },
          "metadata": {
            "tags": []
          },
          "execution_count": 133
        }
      ]
    },
    {
      "cell_type": "code",
      "metadata": {
        "colab": {
          "base_uri": "https://localhost:8080/"
        },
        "id": "rDyW7zLJDcOO",
        "outputId": "1ef1c278-bc18-42da-bf54-0f6c95284d0d"
      },
      "source": [
        "dc2.loc[dc2['UNDERINFL'] == '0', 'UNDERINFL_NEW'] = 'N'\r\n",
        "dc2.loc[dc2['UNDERINFL'] == '1', 'UNDERINFL_NEW'] = 'Y'  \r\n",
        "dc2.loc[dc2['UNDERINFL'] == 'N', 'UNDERINFL_NEW'] = 'N'\r\n",
        "dc2.loc[dc2['UNDERINFL'] == 'Y', 'UNDERINFL_NEW'] = 'Y' \r\n",
        "dc2.loc[dc2['UNDERINFL'].isnull()== True, 'UNDERINFL_NEW'] = 'Unknown' "
      ],
      "execution_count": null,
      "outputs": [
        {
          "output_type": "stream",
          "text": [
            "/usr/local/lib/python3.6/dist-packages/pandas/core/indexing.py:1596: SettingWithCopyWarning: \n",
            "A value is trying to be set on a copy of a slice from a DataFrame.\n",
            "Try using .loc[row_indexer,col_indexer] = value instead\n",
            "\n",
            "See the caveats in the documentation: https://pandas.pydata.org/pandas-docs/stable/user_guide/indexing.html#returning-a-view-versus-a-copy\n",
            "  self.obj[key] = _infer_fill_value(value)\n",
            "/usr/local/lib/python3.6/dist-packages/pandas/core/indexing.py:1763: SettingWithCopyWarning: \n",
            "A value is trying to be set on a copy of a slice from a DataFrame.\n",
            "Try using .loc[row_indexer,col_indexer] = value instead\n",
            "\n",
            "See the caveats in the documentation: https://pandas.pydata.org/pandas-docs/stable/user_guide/indexing.html#returning-a-view-versus-a-copy\n",
            "  isetter(loc, value)\n",
            "/usr/local/lib/python3.6/dist-packages/pandas/core/indexing.py:670: SettingWithCopyWarning: \n",
            "A value is trying to be set on a copy of a slice from a DataFrame\n",
            "\n",
            "See the caveats in the documentation: https://pandas.pydata.org/pandas-docs/stable/user_guide/indexing.html#returning-a-view-versus-a-copy\n",
            "  iloc._setitem_with_indexer(indexer, value)\n",
            "/usr/local/lib/python3.6/dist-packages/ipykernel_launcher.py:2: SettingWithCopyWarning: \n",
            "A value is trying to be set on a copy of a slice from a DataFrame\n",
            "\n",
            "See the caveats in the documentation: https://pandas.pydata.org/pandas-docs/stable/user_guide/indexing.html#returning-a-view-versus-a-copy\n",
            "  \n",
            "/usr/local/lib/python3.6/dist-packages/ipykernel_launcher.py:3: SettingWithCopyWarning: \n",
            "A value is trying to be set on a copy of a slice from a DataFrame\n",
            "\n",
            "See the caveats in the documentation: https://pandas.pydata.org/pandas-docs/stable/user_guide/indexing.html#returning-a-view-versus-a-copy\n",
            "  This is separate from the ipykernel package so we can avoid doing imports until\n",
            "/usr/local/lib/python3.6/dist-packages/ipykernel_launcher.py:4: SettingWithCopyWarning: \n",
            "A value is trying to be set on a copy of a slice from a DataFrame\n",
            "\n",
            "See the caveats in the documentation: https://pandas.pydata.org/pandas-docs/stable/user_guide/indexing.html#returning-a-view-versus-a-copy\n",
            "  after removing the cwd from sys.path.\n",
            "/usr/local/lib/python3.6/dist-packages/pandas/core/indexing.py:670: SettingWithCopyWarning: \n",
            "A value is trying to be set on a copy of a slice from a DataFrame\n",
            "\n",
            "See the caveats in the documentation: https://pandas.pydata.org/pandas-docs/stable/user_guide/indexing.html#returning-a-view-versus-a-copy\n",
            "  iloc._setitem_with_indexer(indexer, value)\n",
            "/usr/local/lib/python3.6/dist-packages/ipykernel_launcher.py:5: SettingWithCopyWarning: \n",
            "A value is trying to be set on a copy of a slice from a DataFrame\n",
            "\n",
            "See the caveats in the documentation: https://pandas.pydata.org/pandas-docs/stable/user_guide/indexing.html#returning-a-view-versus-a-copy\n",
            "  \"\"\"\n"
          ],
          "name": "stderr"
        }
      ]
    },
    {
      "cell_type": "code",
      "metadata": {
        "colab": {
          "base_uri": "https://localhost:8080/"
        },
        "id": "AUrkxaaXEHUd",
        "outputId": "69422553-72a2-4a22-b478-a94e5a84cfcf"
      },
      "source": [
        "dc2.groupby([\"SEVERITYCODE\",\"UNDERINFL_NEW\"])[\"SEVERITYCODE\"].count()"
      ],
      "execution_count": null,
      "outputs": [
        {
          "output_type": "execute_result",
          "data": {
            "text/plain": [
              "SEVERITYCODE  UNDERINFL_NEW\n",
              "0             N                182776\n",
              "              Unknown            4718\n",
              "              Y                  9124\n",
              "1             N                  2900\n",
              "              Unknown              58\n",
              "              Y                   505\n",
              "Name: SEVERITYCODE, dtype: int64"
            ]
          },
          "metadata": {
            "tags": []
          },
          "execution_count": 135
        }
      ]
    },
    {
      "cell_type": "code",
      "metadata": {
        "colab": {
          "base_uri": "https://localhost:8080/"
        },
        "id": "ksJmINrPVkVf",
        "outputId": "d3f5c9a8-a119-4be3-b968-212133458c65"
      },
      "source": [
        "(dc2[\"UNDERINFL_NEW\"].isnull()==True).sum()"
      ],
      "execution_count": null,
      "outputs": [
        {
          "output_type": "execute_result",
          "data": {
            "text/plain": [
              "0"
            ]
          },
          "metadata": {
            "tags": []
          },
          "execution_count": 136
        }
      ]
    },
    {
      "cell_type": "code",
      "metadata": {
        "colab": {
          "base_uri": "https://localhost:8080/"
        },
        "id": "aw9dnohyWJQT",
        "outputId": "20f13ec0-427a-4b65-83c3-b6d8b9a8416e"
      },
      "source": [
        "dc2.groupby(['SEVERITYCODE'])['UNDERINFL_NEW'].apply(lambda x: x.isnull().sum())"
      ],
      "execution_count": null,
      "outputs": [
        {
          "output_type": "execute_result",
          "data": {
            "text/plain": [
              "SEVERITYCODE\n",
              "0    0\n",
              "1    0\n",
              "Name: UNDERINFL_NEW, dtype: int64"
            ]
          },
          "metadata": {
            "tags": []
          },
          "execution_count": 137
        }
      ]
    },
    {
      "cell_type": "markdown",
      "metadata": {
        "id": "uOwHN7c6ed-j"
      },
      "source": [
        "### Variable 4 - Weather"
      ]
    },
    {
      "cell_type": "code",
      "metadata": {
        "id": "jdEAlH_SehWp",
        "colab": {
          "base_uri": "https://localhost:8080/"
        },
        "outputId": "ec4a5c34-60bf-425c-b6d0-e9a322fe8a67"
      },
      "source": [
        "#dc2.groupby(\"UNDERINFL\")[\"WEATHER\"].count()\n",
        "dc2.groupby([\"SEVERITYCODE\",\"WEATHER\"])[\"SEVERITYCODE\"].count()"
      ],
      "execution_count": null,
      "outputs": [
        {
          "output_type": "execute_result",
          "data": {
            "text/plain": [
              "SEVERITYCODE  WEATHER                 \n",
              "0             Blowing Sand/Dirt               56\n",
              "              Clear                       112557\n",
              "              Fog/Smog/Smoke                 571\n",
              "              Other                          850\n",
              "              Overcast                     28056\n",
              "              Partly Cloudy                    9\n",
              "              Raining                      33458\n",
              "              Severe Crosswind                25\n",
              "              Sleet/Hail/Freezing Rain       114\n",
              "              Snowing                        909\n",
              "              Unknown                      15091\n",
              "1             Blowing Snow                     1\n",
              "              Clear                         2249\n",
              "              Fog/Smog/Smoke                   6\n",
              "              Other                           10\n",
              "              Overcast                       499\n",
              "              Partly Cloudy                    1\n",
              "              Raining                        579\n",
              "              Severe Crosswind                 1\n",
              "              Sleet/Hail/Freezing Rain         2\n",
              "              Snowing                         10\n",
              "              Unknown                         40\n",
              "Name: SEVERITYCODE, dtype: int64"
            ]
          },
          "metadata": {
            "tags": []
          },
          "execution_count": 138
        }
      ]
    },
    {
      "cell_type": "code",
      "metadata": {
        "id": "6LYRQgNFeZqO",
        "colab": {
          "base_uri": "https://localhost:8080/"
        },
        "outputId": "109da356-ea04-4ea9-bca0-f369d7710d19"
      },
      "source": [
        "dc2.groupby(['SEVERITYCODE'])['WEATHER'].apply(lambda x: x.isnull().sum())"
      ],
      "execution_count": null,
      "outputs": [
        {
          "output_type": "execute_result",
          "data": {
            "text/plain": [
              "SEVERITYCODE\n",
              "0    4922\n",
              "1      65\n",
              "Name: WEATHER, dtype: int64"
            ]
          },
          "metadata": {
            "tags": []
          },
          "execution_count": 139
        }
      ]
    },
    {
      "cell_type": "code",
      "metadata": {
        "id": "9cWKuxhAEtJA"
      },
      "source": [
        "dc2.loc[(dc2['WEATHER'] == 'Blowing Sand/Dirt')\\\r\n",
        "        |(dc2['WEATHER'] == 'Fog/Smog/Smoke')\\\r\n",
        "        |(dc2['WEATHER'] == 'Severe Crosswind')\\\r\n",
        "        |(dc2['WEATHER'] == 'Sleet/Hail/Freezing Rain')\\\r\n",
        "        |(dc2['WEATHER'] == 'Snowing')\\\r\n",
        "        |(dc2['WEATHER'] == 'Blowing Snow') , 'WEATHER_NEW'] = 'SEVERE'\r\n",
        "\r\n",
        "dc2.loc[(dc2['WEATHER'] == 'Overcast')\\\r\n",
        "        |(dc2['WEATHER'] == 'Partly Cloudy')\\\r\n",
        "        |(dc2['WEATHER'] == 'Raining'), 'WEATHER_NEW'] = 'NOTCLEAR'\r\n",
        "dc2.loc[(dc2['WEATHER'] == 'Clear'), 'WEATHER_NEW'] = 'CLEAR'\r\n",
        "dc2.loc[(dc2['WEATHER'] == 'Unknown')\\\r\n",
        "        |(dc2['WEATHER'] == 'Other')\\\r\n",
        "        |(dc2['WEATHER'].isnull() == True ), 'WEATHER_NEW'] = 'OTHERUNKNOWN'\r\n"
      ],
      "execution_count": null,
      "outputs": []
    },
    {
      "cell_type": "code",
      "metadata": {
        "colab": {
          "base_uri": "https://localhost:8080/"
        },
        "id": "8sZur7bWIrev",
        "outputId": "d957164f-e190-4389-ebda-e0423461dcd3"
      },
      "source": [
        "dc2.groupby(['SEVERITYCODE'])['WEATHER_NEW'].apply(lambda x: x.isnull().sum())"
      ],
      "execution_count": null,
      "outputs": [
        {
          "output_type": "execute_result",
          "data": {
            "text/plain": [
              "SEVERITYCODE\n",
              "0    0\n",
              "1    0\n",
              "Name: WEATHER_NEW, dtype: int64"
            ]
          },
          "metadata": {
            "tags": []
          },
          "execution_count": 141
        }
      ]
    },
    {
      "cell_type": "code",
      "metadata": {
        "colab": {
          "base_uri": "https://localhost:8080/"
        },
        "id": "7UViC8eEKrJ7",
        "outputId": "4a28f652-a2a7-4085-83a1-2ccd18b343fb"
      },
      "source": [
        "(dc2[\"WEATHER_NEW\"].isnull()==True).sum()"
      ],
      "execution_count": null,
      "outputs": [
        {
          "output_type": "execute_result",
          "data": {
            "text/plain": [
              "0"
            ]
          },
          "metadata": {
            "tags": []
          },
          "execution_count": 142
        }
      ]
    },
    {
      "cell_type": "code",
      "metadata": {
        "colab": {
          "base_uri": "https://localhost:8080/",
          "height": 69
        },
        "id": "HjrAUuamJIgW",
        "outputId": "a9227f56-6114-49bd-93b0-80c511f1ef59"
      },
      "source": [
        "dc2[dc2['WEATHER_NEW'].isnull()] "
      ],
      "execution_count": null,
      "outputs": [
        {
          "output_type": "execute_result",
          "data": {
            "text/html": [
              "<div>\n",
              "<style scoped>\n",
              "    .dataframe tbody tr th:only-of-type {\n",
              "        vertical-align: middle;\n",
              "    }\n",
              "\n",
              "    .dataframe tbody tr th {\n",
              "        vertical-align: top;\n",
              "    }\n",
              "\n",
              "    .dataframe thead th {\n",
              "        text-align: right;\n",
              "    }\n",
              "</style>\n",
              "<table border=\"1\" class=\"dataframe\">\n",
              "  <thead>\n",
              "    <tr style=\"text-align: right;\">\n",
              "      <th></th>\n",
              "      <th>SEVERITYCODE</th>\n",
              "      <th>ADDRTYPE</th>\n",
              "      <th>COLLISIONTYPE</th>\n",
              "      <th>JUNCTIONTYPE</th>\n",
              "      <th>UNDERINFL</th>\n",
              "      <th>WEATHER</th>\n",
              "      <th>ROADCOND</th>\n",
              "      <th>LIGHTCOND</th>\n",
              "      <th>ADDRTYPE_NEW</th>\n",
              "      <th>UNDERINFL_NEW</th>\n",
              "      <th>WEATHER_NEW</th>\n",
              "    </tr>\n",
              "  </thead>\n",
              "  <tbody>\n",
              "  </tbody>\n",
              "</table>\n",
              "</div>"
            ],
            "text/plain": [
              "Empty DataFrame\n",
              "Columns: [SEVERITYCODE, ADDRTYPE, COLLISIONTYPE, JUNCTIONTYPE, UNDERINFL, WEATHER, ROADCOND, LIGHTCOND, ADDRTYPE_NEW, UNDERINFL_NEW, WEATHER_NEW]\n",
              "Index: []"
            ]
          },
          "metadata": {
            "tags": []
          },
          "execution_count": 143
        }
      ]
    },
    {
      "cell_type": "code",
      "metadata": {
        "colab": {
          "base_uri": "https://localhost:8080/"
        },
        "id": "STT60aSbImyd",
        "outputId": "6d2f34cc-773b-4881-e5de-f907f8383ac2"
      },
      "source": [
        "dc2.groupby([\"SEVERITYCODE\",\"WEATHER_NEW\"])[\"SEVERITYCODE\"].count()"
      ],
      "execution_count": null,
      "outputs": [
        {
          "output_type": "execute_result",
          "data": {
            "text/plain": [
              "SEVERITYCODE  WEATHER_NEW \n",
              "0             CLEAR           112557\n",
              "              NOTCLEAR         61523\n",
              "              OTHERUNKNOWN     20863\n",
              "              SEVERE            1675\n",
              "1             CLEAR             2249\n",
              "              NOTCLEAR          1079\n",
              "              OTHERUNKNOWN       115\n",
              "              SEVERE              20\n",
              "Name: SEVERITYCODE, dtype: int64"
            ]
          },
          "metadata": {
            "tags": []
          },
          "execution_count": 144
        }
      ]
    },
    {
      "cell_type": "markdown",
      "metadata": {
        "id": "fNcPqHtsfsrg"
      },
      "source": [
        "### Variable 5 - 'ROADCOND'"
      ]
    },
    {
      "cell_type": "code",
      "metadata": {
        "id": "MPzOIShvfs3g",
        "colab": {
          "base_uri": "https://localhost:8080/"
        },
        "outputId": "6e50c71b-98c6-4b20-aa6c-2d69f5fd5e09"
      },
      "source": [
        "dc2.groupby([\"SEVERITYCODE\",\"ROADCOND\"])[\"SEVERITYCODE\"].count()"
      ],
      "execution_count": null,
      "outputs": [
        {
          "output_type": "execute_result",
          "data": {
            "text/plain": [
              "SEVERITYCODE  ROADCOND      \n",
              "0             Dry               126149\n",
              "              Ice                 1213\n",
              "              Oil                   64\n",
              "              Other                133\n",
              "              Sand/Mud/Dirt         77\n",
              "              Snow/Slush          1006\n",
              "              Standing Water       116\n",
              "              Unknown            15108\n",
              "              Wet                47906\n",
              "1             Dry                 2511\n",
              "              Ice                   19\n",
              "              Other                  3\n",
              "              Snow/Slush             8\n",
              "              Standing Water         3\n",
              "              Unknown               31\n",
              "              Wet                  828\n",
              "Name: SEVERITYCODE, dtype: int64"
            ]
          },
          "metadata": {
            "tags": []
          },
          "execution_count": 145
        }
      ]
    },
    {
      "cell_type": "code",
      "metadata": {
        "id": "FxpoRdkzfs74",
        "colab": {
          "base_uri": "https://localhost:8080/"
        },
        "outputId": "53a5a51f-b452-4627-af1e-a26f06780558"
      },
      "source": [
        "(dc2[\"ROADCOND\"].isnull()==True).sum()"
      ],
      "execution_count": null,
      "outputs": [
        {
          "output_type": "execute_result",
          "data": {
            "text/plain": [
              "4906"
            ]
          },
          "metadata": {
            "tags": []
          },
          "execution_count": 146
        }
      ]
    },
    {
      "cell_type": "code",
      "metadata": {
        "id": "1vsxg7IALely",
        "colab": {
          "base_uri": "https://localhost:8080/"
        },
        "outputId": "8ef0e519-4c1e-4493-ab1d-3b5e5169e009"
      },
      "source": [
        "dc2.loc[(dc2['ROADCOND'] == 'Ice')\\\r\n",
        "        |(dc2['ROADCOND'] == 'Sand/Mud/Dirt')\\\r\n",
        "        |(dc2['ROADCOND'] == 'Snow/Slush') , 'ROADCOND_NEW'] = 'BAD'\r\n",
        "\r\n",
        "dc2.loc[(dc2['ROADCOND'] == 'Oil')\\\r\n",
        "        |(dc2['ROADCOND'] == 'Standing Water')\\\r\n",
        "        |(dc2['ROADCOND'] == 'Wet'),'ROADCOND_NEW'] = 'WET'\r\n",
        "dc2.loc[(dc2['ROADCOND'] == 'Dry'), 'ROADCOND_NEW'] = 'DRY'\r\n",
        "dc2.loc[(dc2['ROADCOND'] == 'Unknown')\\\r\n",
        "        |(dc2['ROADCOND'] == 'Other')\\\r\n",
        "        |(dc2['ROADCOND'].isnull() == True ), 'ROADCOND_NEW'] = 'OTHERUNKNONW'"
      ],
      "execution_count": null,
      "outputs": [
        {
          "output_type": "stream",
          "text": [
            "/usr/local/lib/python3.6/dist-packages/pandas/core/indexing.py:1596: SettingWithCopyWarning: \n",
            "A value is trying to be set on a copy of a slice from a DataFrame.\n",
            "Try using .loc[row_indexer,col_indexer] = value instead\n",
            "\n",
            "See the caveats in the documentation: https://pandas.pydata.org/pandas-docs/stable/user_guide/indexing.html#returning-a-view-versus-a-copy\n",
            "  self.obj[key] = _infer_fill_value(value)\n",
            "/usr/local/lib/python3.6/dist-packages/pandas/core/indexing.py:1763: SettingWithCopyWarning: \n",
            "A value is trying to be set on a copy of a slice from a DataFrame.\n",
            "Try using .loc[row_indexer,col_indexer] = value instead\n",
            "\n",
            "See the caveats in the documentation: https://pandas.pydata.org/pandas-docs/stable/user_guide/indexing.html#returning-a-view-versus-a-copy\n",
            "  isetter(loc, value)\n",
            "/usr/local/lib/python3.6/dist-packages/pandas/core/indexing.py:670: SettingWithCopyWarning: \n",
            "A value is trying to be set on a copy of a slice from a DataFrame\n",
            "\n",
            "See the caveats in the documentation: https://pandas.pydata.org/pandas-docs/stable/user_guide/indexing.html#returning-a-view-versus-a-copy\n",
            "  iloc._setitem_with_indexer(indexer, value)\n",
            "/usr/local/lib/python3.6/dist-packages/ipykernel_launcher.py:3: SettingWithCopyWarning: \n",
            "A value is trying to be set on a copy of a slice from a DataFrame\n",
            "\n",
            "See the caveats in the documentation: https://pandas.pydata.org/pandas-docs/stable/user_guide/indexing.html#returning-a-view-versus-a-copy\n",
            "  This is separate from the ipykernel package so we can avoid doing imports until\n",
            "/usr/local/lib/python3.6/dist-packages/ipykernel_launcher.py:4: SettingWithCopyWarning: \n",
            "A value is trying to be set on a copy of a slice from a DataFrame\n",
            "\n",
            "See the caveats in the documentation: https://pandas.pydata.org/pandas-docs/stable/user_guide/indexing.html#returning-a-view-versus-a-copy\n",
            "  after removing the cwd from sys.path.\n",
            "/usr/local/lib/python3.6/dist-packages/pandas/core/indexing.py:670: SettingWithCopyWarning: \n",
            "A value is trying to be set on a copy of a slice from a DataFrame\n",
            "\n",
            "See the caveats in the documentation: https://pandas.pydata.org/pandas-docs/stable/user_guide/indexing.html#returning-a-view-versus-a-copy\n",
            "  iloc._setitem_with_indexer(indexer, value)\n",
            "/usr/local/lib/python3.6/dist-packages/ipykernel_launcher.py:5: SettingWithCopyWarning: \n",
            "A value is trying to be set on a copy of a slice from a DataFrame\n",
            "\n",
            "See the caveats in the documentation: https://pandas.pydata.org/pandas-docs/stable/user_guide/indexing.html#returning-a-view-versus-a-copy\n",
            "  \"\"\"\n"
          ],
          "name": "stderr"
        }
      ]
    },
    {
      "cell_type": "code",
      "metadata": {
        "id": "1FJK67qaftGr",
        "colab": {
          "base_uri": "https://localhost:8080/"
        },
        "outputId": "6f066205-c650-4324-fd58-434361a268ff"
      },
      "source": [
        "dc2.groupby(['SEVERITYCODE'])['ROADCOND_NEW'].apply(lambda x: x.isnull().sum())"
      ],
      "execution_count": null,
      "outputs": [
        {
          "output_type": "execute_result",
          "data": {
            "text/plain": [
              "SEVERITYCODE\n",
              "0    0\n",
              "1    0\n",
              "Name: ROADCOND_NEW, dtype: int64"
            ]
          },
          "metadata": {
            "tags": []
          },
          "execution_count": 148
        }
      ]
    },
    {
      "cell_type": "code",
      "metadata": {
        "colab": {
          "base_uri": "https://localhost:8080/"
        },
        "id": "r8p-WRIfNOJT",
        "outputId": "35cdba53-d783-44dd-c9e2-8337ba6af7eb"
      },
      "source": [
        "dc2.groupby([\"SEVERITYCODE\",\"ROADCOND_NEW\"])[\"SEVERITYCODE\"].count()"
      ],
      "execution_count": null,
      "outputs": [
        {
          "output_type": "execute_result",
          "data": {
            "text/plain": [
              "SEVERITYCODE  ROADCOND_NEW\n",
              "0             BAD               2296\n",
              "              DRY             126149\n",
              "              OTHERUNKNONW     20087\n",
              "              WET              48086\n",
              "1             BAD                 27\n",
              "              DRY               2511\n",
              "              OTHERUNKNONW        94\n",
              "              WET                831\n",
              "Name: SEVERITYCODE, dtype: int64"
            ]
          },
          "metadata": {
            "tags": []
          },
          "execution_count": 149
        }
      ]
    },
    {
      "cell_type": "markdown",
      "metadata": {
        "id": "Mt9Djhngf3gX"
      },
      "source": [
        "### Variable 6 - JUNCTIONTYPE\n"
      ]
    },
    {
      "cell_type": "code",
      "metadata": {
        "id": "7z8Zmuirf36e",
        "colab": {
          "base_uri": "https://localhost:8080/"
        },
        "outputId": "6b37cf41-873c-43b2-885b-d087009783b0"
      },
      "source": [
        "dc2.groupby([\"SEVERITYCODE\",\"JUNCTIONTYPE\"])[\"SEVERITYCODE\"].count()"
      ],
      "execution_count": null,
      "outputs": [
        {
          "output_type": "execute_result",
          "data": {
            "text/plain": [
              "SEVERITYCODE  JUNCTIONTYPE                                     \n",
              "0             At Intersection (but not related to intersection)     2104\n",
              "              At Intersection (intersection related)               63536\n",
              "              Driveway Junction                                    10705\n",
              "              Mid-Block (but intersection related)                 22872\n",
              "              Mid-Block (not related to intersection)              90862\n",
              "              Ramp Junction                                          166\n",
              "              Unknown                                                  9\n",
              "1             At Intersection (but not related to intersection)       26\n",
              "              At Intersection (intersection related)                1697\n",
              "              Driveway Junction                                      147\n",
              "              Mid-Block (but intersection related)                   207\n",
              "              Mid-Block (not related to intersection)               1362\n",
              "              Ramp Junction                                            5\n",
              "Name: SEVERITYCODE, dtype: int64"
            ]
          },
          "metadata": {
            "tags": []
          },
          "execution_count": 150
        }
      ]
    },
    {
      "cell_type": "code",
      "metadata": {
        "id": "XwVHCPwgE5xw"
      },
      "source": [
        ""
      ],
      "execution_count": null,
      "outputs": []
    },
    {
      "cell_type": "code",
      "metadata": {
        "id": "OsTjUQNLf3-Y",
        "colab": {
          "base_uri": "https://localhost:8080/"
        },
        "outputId": "3445c1c5-d1db-4d35-e06e-e49c922a28c6"
      },
      "source": [
        "(dc2[\"JUNCTIONTYPE\"].isnull()==True).sum()"
      ],
      "execution_count": null,
      "outputs": [
        {
          "output_type": "execute_result",
          "data": {
            "text/plain": [
              "6383"
            ]
          },
          "metadata": {
            "tags": []
          },
          "execution_count": 151
        }
      ]
    },
    {
      "cell_type": "code",
      "metadata": {
        "id": "yjiohLhUf4DS",
        "colab": {
          "base_uri": "https://localhost:8080/"
        },
        "outputId": "3e3e0cc2-69f4-4bed-eedb-68a3eceeb56d"
      },
      "source": [
        "dc2.groupby(['SEVERITYCODE'])['JUNCTIONTYPE'].apply(lambda x: x.isnull().sum())"
      ],
      "execution_count": null,
      "outputs": [
        {
          "output_type": "execute_result",
          "data": {
            "text/plain": [
              "SEVERITYCODE\n",
              "0    6364\n",
              "1      19\n",
              "Name: JUNCTIONTYPE, dtype: int64"
            ]
          },
          "metadata": {
            "tags": []
          },
          "execution_count": 152
        }
      ]
    },
    {
      "cell_type": "code",
      "metadata": {
        "colab": {
          "base_uri": "https://localhost:8080/"
        },
        "id": "NaB6gpU-P-PF",
        "outputId": "901c974b-2b9d-47de-a34b-12cdd102c93c"
      },
      "source": [
        "dc2.loc[(dc2['JUNCTIONTYPE'] == 'At Intersection (intersection related)')\\\r\n",
        "        |(dc2['JUNCTIONTYPE'] == 'Mid-Block (but intersection related)'), 'JUNCTIONTYPE_NEW'] = 'INTERSECTION_RELATED'\r\n",
        "\r\n",
        "dc2.loc[(dc2['JUNCTIONTYPE'] == 'At Intersection (but not related to intersection)')\\\r\n",
        "        |(dc2['JUNCTIONTYPE'] == 'Mid-Block (not related to intersection)'),'JUNCTIONTYPE_NEW'] = 'INTERSECTION_UNRELATED'\r\n",
        "dc2.loc[(dc2['JUNCTIONTYPE'] == 'Driveway Junction'), 'JUNCTIONTYPE_NEW'] = 'DRIVEWAY_JUNCTION'\r\n",
        "dc2.loc[(dc2['JUNCTIONTYPE'] == 'Ramp Junction'), 'JUNCTIONTYPE_NEW'] = 'RAMP_JUNCTION'\r\n",
        "dc2.loc[(dc2['JUNCTIONTYPE'] == 'Unknown')\\\r\n",
        "        |(dc2['JUNCTIONTYPE'] == 'Other')\\\r\n",
        "        |(dc2['JUNCTIONTYPE'].isnull() == True ), 'JUNCTIONTYPE_NEW'] = 'OTHERUNKNOWN'"
      ],
      "execution_count": null,
      "outputs": [
        {
          "output_type": "stream",
          "text": [
            "/usr/local/lib/python3.6/dist-packages/pandas/core/indexing.py:1596: SettingWithCopyWarning: \n",
            "A value is trying to be set on a copy of a slice from a DataFrame.\n",
            "Try using .loc[row_indexer,col_indexer] = value instead\n",
            "\n",
            "See the caveats in the documentation: https://pandas.pydata.org/pandas-docs/stable/user_guide/indexing.html#returning-a-view-versus-a-copy\n",
            "  self.obj[key] = _infer_fill_value(value)\n",
            "/usr/local/lib/python3.6/dist-packages/pandas/core/indexing.py:1763: SettingWithCopyWarning: \n",
            "A value is trying to be set on a copy of a slice from a DataFrame.\n",
            "Try using .loc[row_indexer,col_indexer] = value instead\n",
            "\n",
            "See the caveats in the documentation: https://pandas.pydata.org/pandas-docs/stable/user_guide/indexing.html#returning-a-view-versus-a-copy\n",
            "  isetter(loc, value)\n",
            "/usr/local/lib/python3.6/dist-packages/pandas/core/indexing.py:670: SettingWithCopyWarning: \n",
            "A value is trying to be set on a copy of a slice from a DataFrame\n",
            "\n",
            "See the caveats in the documentation: https://pandas.pydata.org/pandas-docs/stable/user_guide/indexing.html#returning-a-view-versus-a-copy\n",
            "  iloc._setitem_with_indexer(indexer, value)\n",
            "/usr/local/lib/python3.6/dist-packages/ipykernel_launcher.py:3: SettingWithCopyWarning: \n",
            "A value is trying to be set on a copy of a slice from a DataFrame\n",
            "\n",
            "See the caveats in the documentation: https://pandas.pydata.org/pandas-docs/stable/user_guide/indexing.html#returning-a-view-versus-a-copy\n",
            "  This is separate from the ipykernel package so we can avoid doing imports until\n",
            "/usr/local/lib/python3.6/dist-packages/ipykernel_launcher.py:4: SettingWithCopyWarning: \n",
            "A value is trying to be set on a copy of a slice from a DataFrame\n",
            "\n",
            "See the caveats in the documentation: https://pandas.pydata.org/pandas-docs/stable/user_guide/indexing.html#returning-a-view-versus-a-copy\n",
            "  after removing the cwd from sys.path.\n",
            "/usr/local/lib/python3.6/dist-packages/ipykernel_launcher.py:5: SettingWithCopyWarning: \n",
            "A value is trying to be set on a copy of a slice from a DataFrame\n",
            "\n",
            "See the caveats in the documentation: https://pandas.pydata.org/pandas-docs/stable/user_guide/indexing.html#returning-a-view-versus-a-copy\n",
            "  \"\"\"\n",
            "/usr/local/lib/python3.6/dist-packages/pandas/core/indexing.py:670: SettingWithCopyWarning: \n",
            "A value is trying to be set on a copy of a slice from a DataFrame\n",
            "\n",
            "See the caveats in the documentation: https://pandas.pydata.org/pandas-docs/stable/user_guide/indexing.html#returning-a-view-versus-a-copy\n",
            "  iloc._setitem_with_indexer(indexer, value)\n",
            "/usr/local/lib/python3.6/dist-packages/ipykernel_launcher.py:6: SettingWithCopyWarning: \n",
            "A value is trying to be set on a copy of a slice from a DataFrame\n",
            "\n",
            "See the caveats in the documentation: https://pandas.pydata.org/pandas-docs/stable/user_guide/indexing.html#returning-a-view-versus-a-copy\n",
            "  \n"
          ],
          "name": "stderr"
        }
      ]
    },
    {
      "cell_type": "code",
      "metadata": {
        "colab": {
          "base_uri": "https://localhost:8080/"
        },
        "id": "nF5nZHvgRkZj",
        "outputId": "17812ec1-8d0c-41ca-a903-585048332962"
      },
      "source": [
        "dc2.groupby([\"SEVERITYCODE\",\"JUNCTIONTYPE_NEW\"])[\"SEVERITYCODE\"].count()"
      ],
      "execution_count": null,
      "outputs": [
        {
          "output_type": "execute_result",
          "data": {
            "text/plain": [
              "SEVERITYCODE  JUNCTIONTYPE_NEW      \n",
              "0             DRIVEWAY_JUNCTION         10705\n",
              "              INTERSECTION_RELATED      86408\n",
              "              INTERSECTION_UNRELATED    92966\n",
              "              OTHERUNKNOWN               6373\n",
              "              RAMP_JUNCTION               166\n",
              "1             DRIVEWAY_JUNCTION           147\n",
              "              INTERSECTION_RELATED       1904\n",
              "              INTERSECTION_UNRELATED     1388\n",
              "              OTHERUNKNOWN                 19\n",
              "              RAMP_JUNCTION                 5\n",
              "Name: SEVERITYCODE, dtype: int64"
            ]
          },
          "metadata": {
            "tags": []
          },
          "execution_count": 154
        }
      ]
    },
    {
      "cell_type": "code",
      "metadata": {
        "colab": {
          "base_uri": "https://localhost:8080/"
        },
        "id": "0uzRJmHkRkie",
        "outputId": "fad32f36-6923-4d39-c137-c9c7b5e492a8"
      },
      "source": [
        "(dc2[\"JUNCTIONTYPE_NEW\"].isnull()==True).sum()"
      ],
      "execution_count": null,
      "outputs": [
        {
          "output_type": "execute_result",
          "data": {
            "text/plain": [
              "0"
            ]
          },
          "metadata": {
            "tags": []
          },
          "execution_count": 155
        }
      ]
    },
    {
      "cell_type": "markdown",
      "metadata": {
        "id": "Ttz152mYgKT5"
      },
      "source": [
        "### Variable 7 - LIGHTCOND"
      ]
    },
    {
      "cell_type": "code",
      "metadata": {
        "id": "AuUFHy4XgKfl",
        "colab": {
          "base_uri": "https://localhost:8080/"
        },
        "outputId": "196cd74e-139f-47fd-aac0-e273f35bb231"
      },
      "source": [
        "dc2.groupby([\"SEVERITYCODE\",\"LIGHTCOND\"])[\"SEVERITYCODE\"].count()"
      ],
      "execution_count": null,
      "outputs": [
        {
          "output_type": "execute_result",
          "data": {
            "text/plain": [
              "SEVERITYCODE  LIGHTCOND               \n",
              "0             Dark - No Street Lights       1554\n",
              "              Dark - Street Lights Off      1207\n",
              "              Dark - Street Lights On      48973\n",
              "              Dark - Unknown Lighting         24\n",
              "              Dawn                          2544\n",
              "              Daylight                    117597\n",
              "              Dusk                          5961\n",
              "              Other                          240\n",
              "              Unknown                      13507\n",
              "1             Dark - No Street Lights         26\n",
              "              Dark - Street Lights Off        32\n",
              "              Dark - Street Lights On       1166\n",
              "              Dawn                            65\n",
              "              Daylight                      1955\n",
              "              Dusk                           124\n",
              "              Other                            4\n",
              "              Unknown                         26\n",
              "Name: SEVERITYCODE, dtype: int64"
            ]
          },
          "metadata": {
            "tags": []
          },
          "execution_count": 156
        }
      ]
    },
    {
      "cell_type": "code",
      "metadata": {
        "id": "aw66HJvdgKmc",
        "colab": {
          "base_uri": "https://localhost:8080/"
        },
        "outputId": "569ba6e5-5a83-4382-a109-a0329af89693"
      },
      "source": [
        "(dc2[\"LIGHTCOND\"].isnull()==True).sum()"
      ],
      "execution_count": null,
      "outputs": [
        {
          "output_type": "execute_result",
          "data": {
            "text/plain": [
              "5076"
            ]
          },
          "metadata": {
            "tags": []
          },
          "execution_count": 157
        }
      ]
    },
    {
      "cell_type": "code",
      "metadata": {
        "id": "mXQuA2LzgKr2",
        "colab": {
          "base_uri": "https://localhost:8080/"
        },
        "outputId": "858e6b91-abee-45bb-e0a5-14d8630abdfe"
      },
      "source": [
        "dc2.groupby(['SEVERITYCODE'])['LIGHTCOND'].apply(lambda x: x.isnull().sum())"
      ],
      "execution_count": null,
      "outputs": [
        {
          "output_type": "execute_result",
          "data": {
            "text/plain": [
              "SEVERITYCODE\n",
              "0    5011\n",
              "1      65\n",
              "Name: LIGHTCOND, dtype: int64"
            ]
          },
          "metadata": {
            "tags": []
          },
          "execution_count": 158
        }
      ]
    },
    {
      "cell_type": "code",
      "metadata": {
        "colab": {
          "base_uri": "https://localhost:8080/"
        },
        "id": "bXJ4Z5b9R_e1",
        "outputId": "7f2ab64a-9bad-4af8-c388-20da3df29f50"
      },
      "source": [
        "dc2.loc[(dc2['LIGHTCOND'] == 'Dark - No Street Lights')\\\r\n",
        "        |(dc2['LIGHTCOND'] == 'Dark - Unknown Lighting')\\\r\n",
        "        |(dc2['LIGHTCOND'] == 'Dark - Street Lights Off'), 'LIGHTCOND_NEW'] = 'DARK'\r\n",
        "\r\n",
        "\r\n",
        "dc2.loc[(dc2['LIGHTCOND'] == 'Dark - Street Lights On')\\\r\n",
        "        |(dc2['LIGHTCOND'] == 'Dawn')\\\r\n",
        "        |(dc2['LIGHTCOND'] == 'Dusk'), 'LIGHTCOND_NEW'] = 'HAS_LIGHT'\r\n",
        "dc2.loc[(dc2['LIGHTCOND'] == 'Daylight'), 'LIGHTCOND_NEW'] = 'DAYLIGHT'\r\n",
        "dc2.loc[(dc2['LIGHTCOND'] == 'Unknown')\\\r\n",
        "        |(dc2['LIGHTCOND'] == 'Other')\\\r\n",
        "        |(dc2['LIGHTCOND'].isnull() == True ), 'LIGHTCOND_NEW'] = 'OTHERUNKNOWN'"
      ],
      "execution_count": null,
      "outputs": [
        {
          "output_type": "stream",
          "text": [
            "/usr/local/lib/python3.6/dist-packages/pandas/core/indexing.py:1596: SettingWithCopyWarning: \n",
            "A value is trying to be set on a copy of a slice from a DataFrame.\n",
            "Try using .loc[row_indexer,col_indexer] = value instead\n",
            "\n",
            "See the caveats in the documentation: https://pandas.pydata.org/pandas-docs/stable/user_guide/indexing.html#returning-a-view-versus-a-copy\n",
            "  self.obj[key] = _infer_fill_value(value)\n",
            "/usr/local/lib/python3.6/dist-packages/pandas/core/indexing.py:1763: SettingWithCopyWarning: \n",
            "A value is trying to be set on a copy of a slice from a DataFrame.\n",
            "Try using .loc[row_indexer,col_indexer] = value instead\n",
            "\n",
            "See the caveats in the documentation: https://pandas.pydata.org/pandas-docs/stable/user_guide/indexing.html#returning-a-view-versus-a-copy\n",
            "  isetter(loc, value)\n",
            "/usr/local/lib/python3.6/dist-packages/pandas/core/indexing.py:670: SettingWithCopyWarning: \n",
            "A value is trying to be set on a copy of a slice from a DataFrame\n",
            "\n",
            "See the caveats in the documentation: https://pandas.pydata.org/pandas-docs/stable/user_guide/indexing.html#returning-a-view-versus-a-copy\n",
            "  iloc._setitem_with_indexer(indexer, value)\n",
            "/usr/local/lib/python3.6/dist-packages/ipykernel_launcher.py:4: SettingWithCopyWarning: \n",
            "A value is trying to be set on a copy of a slice from a DataFrame\n",
            "\n",
            "See the caveats in the documentation: https://pandas.pydata.org/pandas-docs/stable/user_guide/indexing.html#returning-a-view-versus-a-copy\n",
            "  after removing the cwd from sys.path.\n",
            "/usr/local/lib/python3.6/dist-packages/ipykernel_launcher.py:5: SettingWithCopyWarning: \n",
            "A value is trying to be set on a copy of a slice from a DataFrame\n",
            "\n",
            "See the caveats in the documentation: https://pandas.pydata.org/pandas-docs/stable/user_guide/indexing.html#returning-a-view-versus-a-copy\n",
            "  \"\"\"\n",
            "/usr/local/lib/python3.6/dist-packages/pandas/core/indexing.py:670: SettingWithCopyWarning: \n",
            "A value is trying to be set on a copy of a slice from a DataFrame\n",
            "\n",
            "See the caveats in the documentation: https://pandas.pydata.org/pandas-docs/stable/user_guide/indexing.html#returning-a-view-versus-a-copy\n",
            "  iloc._setitem_with_indexer(indexer, value)\n",
            "/usr/local/lib/python3.6/dist-packages/ipykernel_launcher.py:6: SettingWithCopyWarning: \n",
            "A value is trying to be set on a copy of a slice from a DataFrame\n",
            "\n",
            "See the caveats in the documentation: https://pandas.pydata.org/pandas-docs/stable/user_guide/indexing.html#returning-a-view-versus-a-copy\n",
            "  \n"
          ],
          "name": "stderr"
        }
      ]
    },
    {
      "cell_type": "code",
      "metadata": {
        "id": "gRLOjGfevlGw",
        "colab": {
          "base_uri": "https://localhost:8080/"
        },
        "outputId": "0589d00a-ac76-4ef4-9743-478c81339b2e"
      },
      "source": [
        "dc2.groupby([\"SEVERITYCODE\",\"LIGHTCOND_NEW\"])[\"SEVERITYCODE\"].count()"
      ],
      "execution_count": null,
      "outputs": [
        {
          "output_type": "execute_result",
          "data": {
            "text/plain": [
              "SEVERITYCODE  LIGHTCOND_NEW\n",
              "0             DARK               2785\n",
              "              DAYLIGHT         117597\n",
              "              HAS_LIGHT         57478\n",
              "              OTHERUNKNOWN      18758\n",
              "1             DARK                 58\n",
              "              DAYLIGHT           1955\n",
              "              HAS_LIGHT          1355\n",
              "              OTHERUNKNOWN         95\n",
              "Name: SEVERITYCODE, dtype: int64"
            ]
          },
          "metadata": {
            "tags": []
          },
          "execution_count": 160
        }
      ]
    },
    {
      "cell_type": "code",
      "metadata": {
        "colab": {
          "base_uri": "https://localhost:8080/"
        },
        "id": "ZzClbyEGUajw",
        "outputId": "4aab6433-4962-4d76-e8e9-946840091ae7"
      },
      "source": [
        "(dc2[\"LIGHTCOND_NEW\"].isnull()==True).sum()"
      ],
      "execution_count": null,
      "outputs": [
        {
          "output_type": "execute_result",
          "data": {
            "text/plain": [
              "0"
            ]
          },
          "metadata": {
            "tags": []
          },
          "execution_count": 161
        }
      ]
    },
    {
      "cell_type": "code",
      "metadata": {
        "id": "hYa2C7qbvuKX",
        "colab": {
          "base_uri": "https://localhost:8080/"
        },
        "outputId": "0d90ea72-21ab-460c-c44c-0d37e2287681"
      },
      "source": [
        "dc2.count()"
      ],
      "execution_count": null,
      "outputs": [
        {
          "output_type": "execute_result",
          "data": {
            "text/plain": [
              "SEVERITYCODE        200081\n",
              "ADDRTYPE            198148\n",
              "COLLISIONTYPE       200081\n",
              "JUNCTIONTYPE        193698\n",
              "UNDERINFL           195305\n",
              "WEATHER             195094\n",
              "ROADCOND            195175\n",
              "LIGHTCOND           195005\n",
              "ADDRTYPE_NEW        200081\n",
              "UNDERINFL_NEW       200081\n",
              "WEATHER_NEW         200081\n",
              "ROADCOND_NEW        200081\n",
              "JUNCTIONTYPE_NEW    200081\n",
              "LIGHTCOND_NEW       200081\n",
              "dtype: int64"
            ]
          },
          "metadata": {
            "tags": []
          },
          "execution_count": 162
        }
      ]
    },
    {
      "cell_type": "markdown",
      "metadata": {
        "id": "D1MQ7ICcouAP"
      },
      "source": [
        "## Final 6 predicting variables"
      ]
    },
    {
      "cell_type": "code",
      "metadata": {
        "id": "hMN0Kr8Fkm67",
        "colab": {
          "base_uri": "https://localhost:8080/"
        },
        "outputId": "f04bb0a8-3991-475d-f635-2439be3dcc11"
      },
      "source": [
        "dc3=dc2[['SEVERITYCODE','ADDRTYPE_NEW','JUNCTIONTYPE_NEW','UNDERINFL_NEW','WEATHER_NEW','ROADCOND_NEW','LIGHTCOND_NEW']]\r\n",
        "dc3.shape\r\n",
        "dc3.head(50)\r\n",
        "dc3.columns\r\n"
      ],
      "execution_count": null,
      "outputs": [
        {
          "output_type": "execute_result",
          "data": {
            "text/plain": [
              "Index(['SEVERITYCODE', 'ADDRTYPE_NEW', 'JUNCTIONTYPE_NEW', 'UNDERINFL_NEW',\n",
              "       'WEATHER_NEW', 'ROADCOND_NEW', 'LIGHTCOND_NEW'],\n",
              "      dtype='object')"
            ]
          },
          "metadata": {
            "tags": []
          },
          "execution_count": 163
        }
      ]
    },
    {
      "cell_type": "code",
      "metadata": {
        "colab": {
          "base_uri": "https://localhost:8080/"
        },
        "id": "AItWOO9X3EZl",
        "outputId": "043fe527-4e49-49a9-c840-faba18b59c94"
      },
      "source": [
        "# This creates MultiIndex\r\n",
        "#dc3.columns=[['SEVERITYCODE','ADDRTYPE','JUNCTIONTYPE','UNDERINFL','WEATHER','ROADCOND','LIGHTCOND']]\r\n",
        "#dc3.columns\r\n",
        "\r\n",
        "dc3.rename(columns={'ADDRTYPE_NEW': 'ADDRTYPE', 'JUNCTIONTYPE_NEW':'JUNCTIONTYPE','UNDERINFL_NEW':'UNDERINFL'\\\r\n",
        "                    ,'WEATHER_NEW':'WEATHER','ROADCOND_NEW':'ROADCOND','LIGHTCOND_NEW':'LIGHTCOND'}\\\r\n",
        "           ,inplace=True)\r\n",
        "dc3.columns"
      ],
      "execution_count": null,
      "outputs": [
        {
          "output_type": "stream",
          "text": [
            "/usr/local/lib/python3.6/dist-packages/pandas/core/frame.py:4308: SettingWithCopyWarning: \n",
            "A value is trying to be set on a copy of a slice from a DataFrame\n",
            "\n",
            "See the caveats in the documentation: https://pandas.pydata.org/pandas-docs/stable/user_guide/indexing.html#returning-a-view-versus-a-copy\n",
            "  errors=errors,\n"
          ],
          "name": "stderr"
        },
        {
          "output_type": "execute_result",
          "data": {
            "text/plain": [
              "Index(['SEVERITYCODE', 'ADDRTYPE', 'JUNCTIONTYPE', 'UNDERINFL', 'WEATHER',\n",
              "       'ROADCOND', 'LIGHTCOND'],\n",
              "      dtype='object')"
            ]
          },
          "metadata": {
            "tags": []
          },
          "execution_count": 164
        }
      ]
    },
    {
      "cell_type": "code",
      "metadata": {
        "colab": {
          "base_uri": "https://localhost:8080/",
          "height": 206
        },
        "id": "M59x9exd4su6",
        "outputId": "0ae87d62-139e-40d0-c01b-fc34aa843e18"
      },
      "source": [
        "dc3.head()"
      ],
      "execution_count": null,
      "outputs": [
        {
          "output_type": "execute_result",
          "data": {
            "text/html": [
              "<div>\n",
              "<style scoped>\n",
              "    .dataframe tbody tr th:only-of-type {\n",
              "        vertical-align: middle;\n",
              "    }\n",
              "\n",
              "    .dataframe tbody tr th {\n",
              "        vertical-align: top;\n",
              "    }\n",
              "\n",
              "    .dataframe thead th {\n",
              "        text-align: right;\n",
              "    }\n",
              "</style>\n",
              "<table border=\"1\" class=\"dataframe\">\n",
              "  <thead>\n",
              "    <tr style=\"text-align: right;\">\n",
              "      <th></th>\n",
              "      <th>SEVERITYCODE</th>\n",
              "      <th>ADDRTYPE</th>\n",
              "      <th>JUNCTIONTYPE</th>\n",
              "      <th>UNDERINFL</th>\n",
              "      <th>WEATHER</th>\n",
              "      <th>ROADCOND</th>\n",
              "      <th>LIGHTCOND</th>\n",
              "    </tr>\n",
              "  </thead>\n",
              "  <tbody>\n",
              "    <tr>\n",
              "      <th>0</th>\n",
              "      <td>0</td>\n",
              "      <td>Intersection</td>\n",
              "      <td>INTERSECTION_RELATED</td>\n",
              "      <td>N</td>\n",
              "      <td>CLEAR</td>\n",
              "      <td>DRY</td>\n",
              "      <td>DAYLIGHT</td>\n",
              "    </tr>\n",
              "    <tr>\n",
              "      <th>1</th>\n",
              "      <td>0</td>\n",
              "      <td>Block</td>\n",
              "      <td>INTERSECTION_UNRELATED</td>\n",
              "      <td>N</td>\n",
              "      <td>NOTCLEAR</td>\n",
              "      <td>WET</td>\n",
              "      <td>HAS_LIGHT</td>\n",
              "    </tr>\n",
              "    <tr>\n",
              "      <th>2</th>\n",
              "      <td>0</td>\n",
              "      <td>Block</td>\n",
              "      <td>INTERSECTION_UNRELATED</td>\n",
              "      <td>N</td>\n",
              "      <td>CLEAR</td>\n",
              "      <td>DRY</td>\n",
              "      <td>HAS_LIGHT</td>\n",
              "    </tr>\n",
              "    <tr>\n",
              "      <th>3</th>\n",
              "      <td>0</td>\n",
              "      <td>Intersection</td>\n",
              "      <td>INTERSECTION_RELATED</td>\n",
              "      <td>N</td>\n",
              "      <td>NOTCLEAR</td>\n",
              "      <td>WET</td>\n",
              "      <td>HAS_LIGHT</td>\n",
              "    </tr>\n",
              "    <tr>\n",
              "      <th>4</th>\n",
              "      <td>0</td>\n",
              "      <td>Block</td>\n",
              "      <td>INTERSECTION_UNRELATED</td>\n",
              "      <td>N</td>\n",
              "      <td>CLEAR</td>\n",
              "      <td>BAD</td>\n",
              "      <td>HAS_LIGHT</td>\n",
              "    </tr>\n",
              "  </tbody>\n",
              "</table>\n",
              "</div>"
            ],
            "text/plain": [
              "  SEVERITYCODE      ADDRTYPE  ... ROADCOND  LIGHTCOND\n",
              "0            0  Intersection  ...      DRY   DAYLIGHT\n",
              "1            0         Block  ...      WET  HAS_LIGHT\n",
              "2            0         Block  ...      DRY  HAS_LIGHT\n",
              "3            0  Intersection  ...      WET  HAS_LIGHT\n",
              "4            0         Block  ...      BAD  HAS_LIGHT\n",
              "\n",
              "[5 rows x 7 columns]"
            ]
          },
          "metadata": {
            "tags": []
          },
          "execution_count": 165
        }
      ]
    },
    {
      "cell_type": "markdown",
      "metadata": {
        "id": "6M8bzC_s0cXt"
      },
      "source": [
        "## Data Exploration 2"
      ]
    },
    {
      "cell_type": "markdown",
      "metadata": {
        "id": "iIJThuym0qau"
      },
      "source": [
        ""
      ]
    },
    {
      "cell_type": "code",
      "metadata": {
        "id": "1oHjVnPr0pfq",
        "colab": {
          "base_uri": "https://localhost:8080/",
          "height": 279
        },
        "outputId": "04fcd80b-e11d-456e-a713-386f08191cfb"
      },
      "source": [
        "sns.countplot(x='SEVERITYCODE', data=dc3,palette='hls')\n",
        "plt.show()\n",
        "#plt.savefig('count_plot')\n",
        "\n",
        "#sns.countplot(dc3['SEVERITYCODE']);"
      ],
      "execution_count": null,
      "outputs": [
        {
          "output_type": "display_data",
          "data": {
            "image/png": "[encoded data removed]",
            "text/plain": [
              "<Figure size 432x288 with 1 Axes>"
            ]
          },
          "metadata": {
            "tags": [],
            "needs_background": "light"
          }
        }
      ]
    },
    {
      "cell_type": "code",
      "metadata": {
        "id": "1-NIIsO92Esj",
        "colab": {
          "base_uri": "https://localhost:8080/"
        },
        "outputId": "7ff11941-d239-444d-8455-a0fac44b06e3"
      },
      "source": [
        "dc3.describe()\n",
        "dc3.info()\n",
        "#dc2.groupby('SEVERITYCODE').mean()"
      ],
      "execution_count": null,
      "outputs": [
        {
          "output_type": "stream",
          "text": [
            "<class 'pandas.core.frame.DataFrame'>\n",
            "Int64Index: 200081 entries, 0 to 221737\n",
            "Data columns (total 7 columns):\n",
            " #   Column        Non-Null Count   Dtype \n",
            "---  ------        --------------   ----- \n",
            " 0   SEVERITYCODE  200081 non-null  object\n",
            " 1   ADDRTYPE      200081 non-null  object\n",
            " 2   JUNCTIONTYPE  200081 non-null  object\n",
            " 3   UNDERINFL     200081 non-null  object\n",
            " 4   WEATHER       200081 non-null  object\n",
            " 5   ROADCOND      200081 non-null  object\n",
            " 6   LIGHTCOND     200081 non-null  object\n",
            "dtypes: object(7)\n",
            "memory usage: 17.2+ MB\n"
          ],
          "name": "stdout"
        }
      ]
    },
    {
      "cell_type": "code",
      "metadata": {
        "colab": {
          "base_uri": "https://localhost:8080/",
          "height": 768
        },
        "id": "2ffllgF8wBI3",
        "outputId": "3eac3bcc-c4fe-48ff-c6a3-3a5fb98ec3d5"
      },
      "source": [
        "categorical = ['SEVERITYCODE','ADDRTYPE','JUNCTIONTYPE','UNDERINFL','WEATHER','ROADCOND','LIGHTCOND']\r\n",
        "fig, ax = plt.subplots(2, 4, figsize=(20, 10))\r\n",
        "for variable, subplot in zip(categorical, ax.flatten()):\r\n",
        "    sns.countplot(dc3[variable], ax=subplot)\r\n",
        "    for label in subplot.get_xticklabels():\r\n",
        "        label.set_rotation(90)"
      ],
      "execution_count": null,
      "outputs": [
        {
          "output_type": "stream",
          "text": [
            "/usr/local/lib/python3.6/dist-packages/seaborn/_decorators.py:43: FutureWarning: Pass the following variable as a keyword arg: x. From version 0.12, the only valid positional argument will be `data`, and passing other arguments without an explicit keyword will result in an error or misinterpretation.\n",
            "  FutureWarning\n",
            "/usr/local/lib/python3.6/dist-packages/seaborn/_decorators.py:43: FutureWarning: Pass the following variable as a keyword arg: x. From version 0.12, the only valid positional argument will be `data`, and passing other arguments without an explicit keyword will result in an error or misinterpretation.\n",
            "  FutureWarning\n",
            "/usr/local/lib/python3.6/dist-packages/seaborn/_decorators.py:43: FutureWarning: Pass the following variable as a keyword arg: x. From version 0.12, the only valid positional argument will be `data`, and passing other arguments without an explicit keyword will result in an error or misinterpretation.\n",
            "  FutureWarning\n",
            "/usr/local/lib/python3.6/dist-packages/seaborn/_decorators.py:43: FutureWarning: Pass the following variable as a keyword arg: x. From version 0.12, the only valid positional argument will be `data`, and passing other arguments without an explicit keyword will result in an error or misinterpretation.\n",
            "  FutureWarning\n",
            "/usr/local/lib/python3.6/dist-packages/seaborn/_decorators.py:43: FutureWarning: Pass the following variable as a keyword arg: x. From version 0.12, the only valid positional argument will be `data`, and passing other arguments without an explicit keyword will result in an error or misinterpretation.\n",
            "  FutureWarning\n",
            "/usr/local/lib/python3.6/dist-packages/seaborn/_decorators.py:43: FutureWarning: Pass the following variable as a keyword arg: x. From version 0.12, the only valid positional argument will be `data`, and passing other arguments without an explicit keyword will result in an error or misinterpretation.\n",
            "  FutureWarning\n",
            "/usr/local/lib/python3.6/dist-packages/seaborn/_decorators.py:43: FutureWarning: Pass the following variable as a keyword arg: x. From version 0.12, the only valid positional argument will be `data`, and passing other arguments without an explicit keyword will result in an error or misinterpretation.\n",
            "  FutureWarning\n"
          ],
          "name": "stderr"
        },
        {
          "output_type": "display_data",
          "data": {
            "image/png": "[encoded data removed]",
            "text/plain": [
              "<Figure size 1440x720 with 8 Axes>"
            ]
          },
          "metadata": {
            "tags": [],
            "needs_background": "light"
          }
        }
      ]
    },
    {
      "cell_type": "code",
      "metadata": {
        "id": "6D9zWZDRWRue"
      },
      "source": [
        "# show 6 variables distribution by severitycode\r\n"
      ],
      "execution_count": null,
      "outputs": []
    },
    {
      "cell_type": "code",
      "metadata": {
        "colab": {
          "base_uri": "https://localhost:8080/",
          "height": 351
        },
        "id": "nh2VZdkZWYuM",
        "outputId": "7ec1dd39-a85b-4b2f-b263-a8231e6551d9"
      },
      "source": [
        "table=pd.crosstab(dc3.UNDERINFL,dc3.SEVERITYCODE)\r\n",
        "table.div(table.sum(1).astype(float), axis=0).plot(kind='bar', stacked=True)\r\n",
        "plt.title('Stacked Bar Chart of UNDERINFL vs SEVERITYCODE')\r\n",
        "plt.xlabel('UNDERINFL')\r\n",
        "plt.ylabel('Proportion of incident severity')"
      ],
      "execution_count": null,
      "outputs": [
        {
          "output_type": "execute_result",
          "data": {
            "text/plain": [
              "Text(0, 0.5, 'Proportion of incident severity')"
            ]
          },
          "metadata": {
            "tags": []
          },
          "execution_count": 170
        },
        {
          "output_type": "display_data",
          "data": {
            "image/png": "[encoded data removed]",
            "text/plain": [
              "<Figure size 432x288 with 1 Axes>"
            ]
          },
          "metadata": {
            "tags": [],
            "needs_background": "light"
          }
        }
      ]
    },
    {
      "cell_type": "code",
      "metadata": {
        "colab": {
          "base_uri": "https://localhost:8080/",
          "height": 393
        },
        "id": "gVgTWYDRX4HQ",
        "outputId": "99d637ab-ed00-4546-e79c-96dd66406fde"
      },
      "source": [
        "table=pd.crosstab(dc3.WEATHER,dc3.SEVERITYCODE)\r\n",
        "table.div(table.sum(1).astype(float), axis=0).plot(kind='bar', stacked=True)\r\n",
        "plt.title('Stacked Bar Chart of WEATHER vs SEVERITYCODE')\r\n",
        "plt.xlabel('WEATHER')\r\n",
        "plt.ylabel('Proportion of incident severity')"
      ],
      "execution_count": null,
      "outputs": [
        {
          "output_type": "execute_result",
          "data": {
            "text/plain": [
              "Text(0, 0.5, 'Proportion of incident severity')"
            ]
          },
          "metadata": {
            "tags": []
          },
          "execution_count": 171
        },
        {
          "output_type": "display_data",
          "data": {
            "image/png": "[encoded data removed]",
            "text/plain": [
              "<Figure size 432x288 with 1 Axes>"
            ]
          },
          "metadata": {
            "tags": [],
            "needs_background": "light"
          }
        }
      ]
    },
    {
      "cell_type": "code",
      "metadata": {
        "colab": {
          "base_uri": "https://localhost:8080/",
          "height": 393
        },
        "id": "oLG7e3LEX4Sa",
        "outputId": "7b3a310a-c36d-452f-f33a-81feabec5af1"
      },
      "source": [
        "table=pd.crosstab(dc3.ROADCOND,dc3.SEVERITYCODE)\r\n",
        "table.div(table.sum(1).astype(float), axis=0).plot(kind='bar', stacked=True)\r\n",
        "plt.title('Stacked Bar Chart of ROADCOND vs SEVERITYCODE')\r\n",
        "plt.xlabel('ROADCOND')\r\n",
        "plt.ylabel('Proportion of incident severity')"
      ],
      "execution_count": null,
      "outputs": [
        {
          "output_type": "execute_result",
          "data": {
            "text/plain": [
              "Text(0, 0.5, 'Proportion of incident severity')"
            ]
          },
          "metadata": {
            "tags": []
          },
          "execution_count": 172
        },
        {
          "output_type": "display_data",
          "data": {
            "image/png": "[encoded data removed]",
            "text/plain": [
              "<Figure size 432x288 with 1 Axes>"
            ]
          },
          "metadata": {
            "tags": [],
            "needs_background": "light"
          }
        }
      ]
    },
    {
      "cell_type": "code",
      "metadata": {
        "colab": {
          "base_uri": "https://localhost:8080/",
          "height": 393
        },
        "id": "gNfjc_JAYRIW",
        "outputId": "1482a81d-050c-48c5-ec44-966cdd10acba"
      },
      "source": [
        "table=pd.crosstab(dc3.LIGHTCOND,dc3.SEVERITYCODE)\r\n",
        "table.div(table.sum(1).astype(float), axis=0).plot(kind='bar', stacked=True)\r\n",
        "plt.title('Stacked Bar Chart of LIGHTCOND vs SEVERITYCODE')\r\n",
        "plt.xlabel('LIGHTCOND')\r\n",
        "plt.ylabel('Proportion of incident severity')"
      ],
      "execution_count": null,
      "outputs": [
        {
          "output_type": "execute_result",
          "data": {
            "text/plain": [
              "Text(0, 0.5, 'Proportion of incident severity')"
            ]
          },
          "metadata": {
            "tags": []
          },
          "execution_count": 173
        },
        {
          "output_type": "display_data",
          "data": {
            "image/png": "[encoded data removed]",
            "text/plain": [
              "<Figure size 432x288 with 1 Axes>"
            ]
          },
          "metadata": {
            "tags": [],
            "needs_background": "light"
          }
        }
      ]
    },
    {
      "cell_type": "markdown",
      "metadata": {
        "id": "qqmh_rKfRWvo"
      },
      "source": [
        "### UNDERINFL and SEVERITYCODE"
      ]
    },
    {
      "cell_type": "code",
      "metadata": {
        "colab": {
          "base_uri": "https://localhost:8080/",
          "height": 175
        },
        "id": "HnIdgw2kE8n7",
        "outputId": "f8bc9491-9e90-47b3-afb0-360ea3da329c"
      },
      "source": [
        "pd.crosstab(dc3.UNDERINFL,dc3.SEVERITYCODE )\r\n",
        "\r\n"
      ],
      "execution_count": null,
      "outputs": [
        {
          "output_type": "execute_result",
          "data": {
            "text/html": [
              "<div>\n",
              "<style scoped>\n",
              "    .dataframe tbody tr th:only-of-type {\n",
              "        vertical-align: middle;\n",
              "    }\n",
              "\n",
              "    .dataframe tbody tr th {\n",
              "        vertical-align: top;\n",
              "    }\n",
              "\n",
              "    .dataframe thead th {\n",
              "        text-align: right;\n",
              "    }\n",
              "</style>\n",
              "<table border=\"1\" class=\"dataframe\">\n",
              "  <thead>\n",
              "    <tr style=\"text-align: right;\">\n",
              "      <th>SEVERITYCODE</th>\n",
              "      <th>0</th>\n",
              "      <th>1</th>\n",
              "    </tr>\n",
              "    <tr>\n",
              "      <th>UNDERINFL</th>\n",
              "      <th></th>\n",
              "      <th></th>\n",
              "    </tr>\n",
              "  </thead>\n",
              "  <tbody>\n",
              "    <tr>\n",
              "      <th>N</th>\n",
              "      <td>182776</td>\n",
              "      <td>2900</td>\n",
              "    </tr>\n",
              "    <tr>\n",
              "      <th>Unknown</th>\n",
              "      <td>4718</td>\n",
              "      <td>58</td>\n",
              "    </tr>\n",
              "    <tr>\n",
              "      <th>Y</th>\n",
              "      <td>9124</td>\n",
              "      <td>505</td>\n",
              "    </tr>\n",
              "  </tbody>\n",
              "</table>\n",
              "</div>"
            ],
            "text/plain": [
              "SEVERITYCODE       0     1\n",
              "UNDERINFL                 \n",
              "N             182776  2900\n",
              "Unknown         4718    58\n",
              "Y               9124   505"
            ]
          },
          "metadata": {
            "tags": []
          },
          "execution_count": 174
        }
      ]
    },
    {
      "cell_type": "code",
      "metadata": {
        "colab": {
          "base_uri": "https://localhost:8080/"
        },
        "id": "hTWHGRHPL5Qr",
        "outputId": "0ce8747d-67ab-4ec7-d367-0500e3e4abae"
      },
      "source": [
        "chi2_contingency(pd.crosstab(dc3.UNDERINFL,dc3.SEVERITYCODE ))"
      ],
      "execution_count": null,
      "outputs": [
        {
          "output_type": "execute_result",
          "data": {
            "text/plain": [
              "(737.6247810250065,\n",
              " 6.711412661084219e-161,\n",
              " 2,\n",
              " array([[1.82462322e+05, 3.21367840e+03],\n",
              "        [4.69333704e+03, 8.26629615e+01],\n",
              "        [9.46234136e+03, 1.66658638e+02]]))"
            ]
          },
          "metadata": {
            "tags": []
          },
          "execution_count": 175
        }
      ]
    },
    {
      "cell_type": "code",
      "metadata": {
        "colab": {
          "base_uri": "https://localhost:8080/"
        },
        "id": "tFJaoBzZCFTQ",
        "outputId": "62daa872-644c-46d5-d2e8-6d97124e5e1e"
      },
      "source": [
        "chi2_contingency(pd.crosstab(dc3.SEVERITYCODE,dc3.UNDERINFL))"
      ],
      "execution_count": null,
      "outputs": [
        {
          "output_type": "execute_result",
          "data": {
            "text/plain": [
              "(737.6247810250065,\n",
              " 6.711412661084219e-161,\n",
              " 2,\n",
              " array([[1.82462322e+05, 4.69333704e+03, 9.46234136e+03],\n",
              "        [3.21367840e+03, 8.26629615e+01, 1.66658638e+02]]))"
            ]
          },
          "metadata": {
            "tags": []
          },
          "execution_count": 176
        }
      ]
    },
    {
      "cell_type": "markdown",
      "metadata": {
        "id": "ON1ZvwO8Rr3P"
      },
      "source": [
        "### WEATHER and SEVERITYCODE"
      ]
    },
    {
      "cell_type": "code",
      "metadata": {
        "colab": {
          "base_uri": "https://localhost:8080/",
          "height": 206
        },
        "id": "KJdOR2n0NNZk",
        "outputId": "3cb99cd3-2785-42b1-e7bc-61b6be0db519"
      },
      "source": [
        "severity_weather_table = pd.crosstab(dc3.WEATHER, dc3.SEVERITYCODE)\r\n",
        "severity_weather_table "
      ],
      "execution_count": null,
      "outputs": [
        {
          "output_type": "execute_result",
          "data": {
            "text/html": [
              "<div>\n",
              "<style scoped>\n",
              "    .dataframe tbody tr th:only-of-type {\n",
              "        vertical-align: middle;\n",
              "    }\n",
              "\n",
              "    .dataframe tbody tr th {\n",
              "        vertical-align: top;\n",
              "    }\n",
              "\n",
              "    .dataframe thead th {\n",
              "        text-align: right;\n",
              "    }\n",
              "</style>\n",
              "<table border=\"1\" class=\"dataframe\">\n",
              "  <thead>\n",
              "    <tr style=\"text-align: right;\">\n",
              "      <th>SEVERITYCODE</th>\n",
              "      <th>0</th>\n",
              "      <th>1</th>\n",
              "    </tr>\n",
              "    <tr>\n",
              "      <th>WEATHER</th>\n",
              "      <th></th>\n",
              "      <th></th>\n",
              "    </tr>\n",
              "  </thead>\n",
              "  <tbody>\n",
              "    <tr>\n",
              "      <th>CLEAR</th>\n",
              "      <td>112557</td>\n",
              "      <td>2249</td>\n",
              "    </tr>\n",
              "    <tr>\n",
              "      <th>NOTCLEAR</th>\n",
              "      <td>61523</td>\n",
              "      <td>1079</td>\n",
              "    </tr>\n",
              "    <tr>\n",
              "      <th>OTHERUNKNOWN</th>\n",
              "      <td>20863</td>\n",
              "      <td>115</td>\n",
              "    </tr>\n",
              "    <tr>\n",
              "      <th>SEVERE</th>\n",
              "      <td>1675</td>\n",
              "      <td>20</td>\n",
              "    </tr>\n",
              "  </tbody>\n",
              "</table>\n",
              "</div>"
            ],
            "text/plain": [
              "SEVERITYCODE       0     1\n",
              "WEATHER                   \n",
              "CLEAR         112557  2249\n",
              "NOTCLEAR       61523  1079\n",
              "OTHERUNKNOWN   20863   115\n",
              "SEVERE          1675    20"
            ]
          },
          "metadata": {
            "tags": []
          },
          "execution_count": 177
        }
      ]
    },
    {
      "cell_type": "code",
      "metadata": {
        "colab": {
          "base_uri": "https://localhost:8080/"
        },
        "id": "yfQubOjdNi9I",
        "outputId": "2833f43f-eb40-45fe-b9fb-0828436c61af"
      },
      "source": [
        "chi2_contingency(pd.crosstab(dc3.WEATHER, dc3.SEVERITYCODE))"
      ],
      "execution_count": null,
      "outputs": [
        {
          "output_type": "execute_result",
          "data": {
            "text/plain": [
              "(210.6770576754734,\n",
              " 2.0789967972632254e-45,\n",
              " 3,\n",
              " array([[1.12818939e+05, 1.98706113e+03],\n",
              "        [6.15184852e+04, 1.08351481e+03],\n",
              "        [2.06149130e+04, 3.63087020e+02],\n",
              "        [1.66566296e+03, 2.93370435e+01]]))"
            ]
          },
          "metadata": {
            "tags": []
          },
          "execution_count": 178
        }
      ]
    },
    {
      "cell_type": "code",
      "metadata": {
        "colab": {
          "base_uri": "https://localhost:8080/",
          "height": 596
        },
        "id": "K7JfzxwuQXU4",
        "outputId": "57cc54d6-a971-429e-8064-62553f2bea47"
      },
      "source": [
        "severity_weather_table.plot(kind=\"bar\", \r\n",
        "                 figsize=(8,8),\r\n",
        "                 stacked=True)\r\n",
        "\r\n",
        "\r\n",
        "#severity_weather_table.div(table.sum(1).astype(float),axis=1).plot(kind=\"bar\", \r\n",
        "#                 figsize=(8,8),\r\n",
        "#                 stacked=True)"
      ],
      "execution_count": null,
      "outputs": [
        {
          "output_type": "execute_result",
          "data": {
            "text/plain": [
              "<matplotlib.axes._subplots.AxesSubplot at 0x7fa0eda274a8>"
            ]
          },
          "metadata": {
            "tags": []
          },
          "execution_count": 179
        },
        {
          "output_type": "display_data",
          "data": {
            "image/png": "[encoded data removed]",
            "text/plain": [
              "<Figure size 576x576 with 1 Axes>"
            ]
          },
          "metadata": {
            "tags": [],
            "needs_background": "light"
          }
        }
      ]
    },
    {
      "cell_type": "code",
      "metadata": {
        "id": "Sq9mCfhb8t8x"
      },
      "source": [
        "#severity_weather_table.div(table.sum(1).astype(float))"
      ],
      "execution_count": null,
      "outputs": []
    },
    {
      "cell_type": "markdown",
      "metadata": {
        "id": "kIUgc3_HJ1SR"
      },
      "source": [
        "### ROADCOND and SEVERITYCODE"
      ]
    },
    {
      "cell_type": "code",
      "metadata": {
        "colab": {
          "base_uri": "https://localhost:8080/",
          "height": 206
        },
        "id": "kq8lNJRTE9kK",
        "outputId": "74e37b4d-ae75-4ee7-9a86-972bb97a132c"
      },
      "source": [
        "severity_roadcond_table = pd.crosstab(dc3.ROADCOND, dc3.SEVERITYCODE)\r\n",
        "severity_roadcond_table "
      ],
      "execution_count": null,
      "outputs": [
        {
          "output_type": "execute_result",
          "data": {
            "text/html": [
              "<div>\n",
              "<style scoped>\n",
              "    .dataframe tbody tr th:only-of-type {\n",
              "        vertical-align: middle;\n",
              "    }\n",
              "\n",
              "    .dataframe tbody tr th {\n",
              "        vertical-align: top;\n",
              "    }\n",
              "\n",
              "    .dataframe thead th {\n",
              "        text-align: right;\n",
              "    }\n",
              "</style>\n",
              "<table border=\"1\" class=\"dataframe\">\n",
              "  <thead>\n",
              "    <tr style=\"text-align: right;\">\n",
              "      <th>SEVERITYCODE</th>\n",
              "      <th>0</th>\n",
              "      <th>1</th>\n",
              "    </tr>\n",
              "    <tr>\n",
              "      <th>ROADCOND</th>\n",
              "      <th></th>\n",
              "      <th></th>\n",
              "    </tr>\n",
              "  </thead>\n",
              "  <tbody>\n",
              "    <tr>\n",
              "      <th>BAD</th>\n",
              "      <td>2296</td>\n",
              "      <td>27</td>\n",
              "    </tr>\n",
              "    <tr>\n",
              "      <th>DRY</th>\n",
              "      <td>126149</td>\n",
              "      <td>2511</td>\n",
              "    </tr>\n",
              "    <tr>\n",
              "      <th>OTHERUNKNONW</th>\n",
              "      <td>20087</td>\n",
              "      <td>94</td>\n",
              "    </tr>\n",
              "    <tr>\n",
              "      <th>WET</th>\n",
              "      <td>48086</td>\n",
              "      <td>831</td>\n",
              "    </tr>\n",
              "  </tbody>\n",
              "</table>\n",
              "</div>"
            ],
            "text/plain": [
              "SEVERITYCODE       0     1\n",
              "ROADCOND                  \n",
              "BAD             2296    27\n",
              "DRY           126149  2511\n",
              "OTHERUNKNONW   20087    94\n",
              "WET            48086   831"
            ]
          },
          "metadata": {
            "tags": []
          },
          "execution_count": 181
        }
      ]
    },
    {
      "cell_type": "code",
      "metadata": {
        "colab": {
          "base_uri": "https://localhost:8080/"
        },
        "id": "hOlD1cOjSiDE",
        "outputId": "fd79c000-58fa-41de-8c1b-dd4ee565e36d"
      },
      "source": [
        "chi2_contingency(pd.crosstab(dc3.ROADCOND, dc3.SEVERITYCODE))"
      ],
      "execution_count": null,
      "outputs": [
        {
          "output_type": "execute_result",
          "data": {
            "text/plain": [
              "(231.48235485787444,\n",
              " 6.611628720108943e-50,\n",
              " 3,\n",
              " array([[2.28279354e+03, 4.02064614e+01],\n",
              "        [1.26433154e+05, 2.22684603e+03],\n",
              "        [1.98317074e+04, 3.49292552e+02],\n",
              "        [4.80703450e+04, 8.46654960e+02]]))"
            ]
          },
          "metadata": {
            "tags": []
          },
          "execution_count": 182
        }
      ]
    },
    {
      "cell_type": "markdown",
      "metadata": {
        "id": "tCDAKMweSyqP"
      },
      "source": [
        "### LIGHTCOND and SEVERITYCODE"
      ]
    },
    {
      "cell_type": "code",
      "metadata": {
        "colab": {
          "base_uri": "https://localhost:8080/",
          "height": 206
        },
        "id": "hf9MD4jVSxPQ",
        "outputId": "022c14d8-3888-4bc4-da51-86dfeba815ee"
      },
      "source": [
        "lightcond_roadcond_table = pd.crosstab(dc3.LIGHTCOND, dc3.SEVERITYCODE)\r\n",
        "lightcond_roadcond_table "
      ],
      "execution_count": null,
      "outputs": [
        {
          "output_type": "execute_result",
          "data": {
            "text/html": [
              "<div>\n",
              "<style scoped>\n",
              "    .dataframe tbody tr th:only-of-type {\n",
              "        vertical-align: middle;\n",
              "    }\n",
              "\n",
              "    .dataframe tbody tr th {\n",
              "        vertical-align: top;\n",
              "    }\n",
              "\n",
              "    .dataframe thead th {\n",
              "        text-align: right;\n",
              "    }\n",
              "</style>\n",
              "<table border=\"1\" class=\"dataframe\">\n",
              "  <thead>\n",
              "    <tr style=\"text-align: right;\">\n",
              "      <th>SEVERITYCODE</th>\n",
              "      <th>0</th>\n",
              "      <th>1</th>\n",
              "    </tr>\n",
              "    <tr>\n",
              "      <th>LIGHTCOND</th>\n",
              "      <th></th>\n",
              "      <th></th>\n",
              "    </tr>\n",
              "  </thead>\n",
              "  <tbody>\n",
              "    <tr>\n",
              "      <th>DARK</th>\n",
              "      <td>2785</td>\n",
              "      <td>58</td>\n",
              "    </tr>\n",
              "    <tr>\n",
              "      <th>DAYLIGHT</th>\n",
              "      <td>117597</td>\n",
              "      <td>1955</td>\n",
              "    </tr>\n",
              "    <tr>\n",
              "      <th>HAS_LIGHT</th>\n",
              "      <td>57478</td>\n",
              "      <td>1355</td>\n",
              "    </tr>\n",
              "    <tr>\n",
              "      <th>OTHERUNKNOWN</th>\n",
              "      <td>18758</td>\n",
              "      <td>95</td>\n",
              "    </tr>\n",
              "  </tbody>\n",
              "</table>\n",
              "</div>"
            ],
            "text/plain": [
              "SEVERITYCODE       0     1\n",
              "LIGHTCOND                 \n",
              "DARK            2785    58\n",
              "DAYLIGHT      117597  1955\n",
              "HAS_LIGHT      57478  1355\n",
              "OTHERUNKNOWN   18758    95"
            ]
          },
          "metadata": {
            "tags": []
          },
          "execution_count": 183
        }
      ]
    },
    {
      "cell_type": "code",
      "metadata": {
        "colab": {
          "base_uri": "https://localhost:8080/"
        },
        "id": "wapISV2aS8VJ",
        "outputId": "1ef04e18-a166-47e4-e495-a938a9018372"
      },
      "source": [
        "chi2_contingency(pd.crosstab(dc3.LIGHTCOND, dc3.SEVERITYCODE))"
      ],
      "execution_count": null,
      "outputs": [
        {
          "output_type": "execute_result",
          "data": {
            "text/plain": [
              "(288.17205756595337,\n",
              " 3.6099241332012322e-62,\n",
              " 3,\n",
              " array([[2.79379338e+03, 4.92066163e+01],\n",
              "        [1.17482795e+05, 2.06920485e+03],\n",
              "        [5.78147190e+04, 1.01828099e+03],\n",
              "        [1.85266925e+04, 3.26307540e+02]]))"
            ]
          },
          "metadata": {
            "tags": []
          },
          "execution_count": 184
        }
      ]
    },
    {
      "cell_type": "markdown",
      "metadata": {
        "id": "Htj6T5tLDpmp"
      },
      "source": [
        "## Create Dummy Variables"
      ]
    },
    {
      "cell_type": "code",
      "metadata": {
        "colab": {
          "base_uri": "https://localhost:8080/",
          "height": 226
        },
        "id": "E3Wx_CTXM7My",
        "outputId": "ff9a23fe-989d-4dd2-d91e-f97a6aa22e3e"
      },
      "source": [
        "data_final = pd.get_dummies(dc3, columns=['ADDRTYPE','JUNCTIONTYPE','UNDERINFL','WEATHER','ROADCOND','LIGHTCOND'])\r\n",
        "data_final.head()\r\n",
        "\r\n"
      ],
      "execution_count": null,
      "outputs": [
        {
          "output_type": "execute_result",
          "data": {
            "text/html": [
              "<div>\n",
              "<style scoped>\n",
              "    .dataframe tbody tr th:only-of-type {\n",
              "        vertical-align: middle;\n",
              "    }\n",
              "\n",
              "    .dataframe tbody tr th {\n",
              "        vertical-align: top;\n",
              "    }\n",
              "\n",
              "    .dataframe thead th {\n",
              "        text-align: right;\n",
              "    }\n",
              "</style>\n",
              "<table border=\"1\" class=\"dataframe\">\n",
              "  <thead>\n",
              "    <tr style=\"text-align: right;\">\n",
              "      <th></th>\n",
              "      <th>SEVERITYCODE</th>\n",
              "      <th>ADDRTYPE_Alley</th>\n",
              "      <th>ADDRTYPE_Block</th>\n",
              "      <th>ADDRTYPE_Intersection</th>\n",
              "      <th>ADDRTYPE_Unknown</th>\n",
              "      <th>JUNCTIONTYPE_DRIVEWAY_JUNCTION</th>\n",
              "      <th>JUNCTIONTYPE_INTERSECTION_RELATED</th>\n",
              "      <th>JUNCTIONTYPE_INTERSECTION_UNRELATED</th>\n",
              "      <th>JUNCTIONTYPE_OTHERUNKNOWN</th>\n",
              "      <th>JUNCTIONTYPE_RAMP_JUNCTION</th>\n",
              "      <th>UNDERINFL_N</th>\n",
              "      <th>UNDERINFL_Unknown</th>\n",
              "      <th>UNDERINFL_Y</th>\n",
              "      <th>WEATHER_CLEAR</th>\n",
              "      <th>WEATHER_NOTCLEAR</th>\n",
              "      <th>WEATHER_OTHERUNKNOWN</th>\n",
              "      <th>WEATHER_SEVERE</th>\n",
              "      <th>ROADCOND_BAD</th>\n",
              "      <th>ROADCOND_DRY</th>\n",
              "      <th>ROADCOND_OTHERUNKNONW</th>\n",
              "      <th>ROADCOND_WET</th>\n",
              "      <th>LIGHTCOND_DARK</th>\n",
              "      <th>LIGHTCOND_DAYLIGHT</th>\n",
              "      <th>LIGHTCOND_HAS_LIGHT</th>\n",
              "      <th>LIGHTCOND_OTHERUNKNOWN</th>\n",
              "    </tr>\n",
              "  </thead>\n",
              "  <tbody>\n",
              "    <tr>\n",
              "      <th>0</th>\n",
              "      <td>0</td>\n",
              "      <td>0</td>\n",
              "      <td>0</td>\n",
              "      <td>1</td>\n",
              "      <td>0</td>\n",
              "      <td>0</td>\n",
              "      <td>1</td>\n",
              "      <td>0</td>\n",
              "      <td>0</td>\n",
              "      <td>0</td>\n",
              "      <td>1</td>\n",
              "      <td>0</td>\n",
              "      <td>0</td>\n",
              "      <td>1</td>\n",
              "      <td>0</td>\n",
              "      <td>0</td>\n",
              "      <td>0</td>\n",
              "      <td>0</td>\n",
              "      <td>1</td>\n",
              "      <td>0</td>\n",
              "      <td>0</td>\n",
              "      <td>0</td>\n",
              "      <td>1</td>\n",
              "      <td>0</td>\n",
              "      <td>0</td>\n",
              "    </tr>\n",
              "    <tr>\n",
              "      <th>1</th>\n",
              "      <td>0</td>\n",
              "      <td>0</td>\n",
              "      <td>1</td>\n",
              "      <td>0</td>\n",
              "      <td>0</td>\n",
              "      <td>0</td>\n",
              "      <td>0</td>\n",
              "      <td>1</td>\n",
              "      <td>0</td>\n",
              "      <td>0</td>\n",
              "      <td>1</td>\n",
              "      <td>0</td>\n",
              "      <td>0</td>\n",
              "      <td>0</td>\n",
              "      <td>1</td>\n",
              "      <td>0</td>\n",
              "      <td>0</td>\n",
              "      <td>0</td>\n",
              "      <td>0</td>\n",
              "      <td>0</td>\n",
              "      <td>1</td>\n",
              "      <td>0</td>\n",
              "      <td>0</td>\n",
              "      <td>1</td>\n",
              "      <td>0</td>\n",
              "    </tr>\n",
              "    <tr>\n",
              "      <th>2</th>\n",
              "      <td>0</td>\n",
              "      <td>0</td>\n",
              "      <td>1</td>\n",
              "      <td>0</td>\n",
              "      <td>0</td>\n",
              "      <td>0</td>\n",
              "      <td>0</td>\n",
              "      <td>1</td>\n",
              "      <td>0</td>\n",
              "      <td>0</td>\n",
              "      <td>1</td>\n",
              "      <td>0</td>\n",
              "      <td>0</td>\n",
              "      <td>1</td>\n",
              "      <td>0</td>\n",
              "      <td>0</td>\n",
              "      <td>0</td>\n",
              "      <td>0</td>\n",
              "      <td>1</td>\n",
              "      <td>0</td>\n",
              "      <td>0</td>\n",
              "      <td>0</td>\n",
              "      <td>0</td>\n",
              "      <td>1</td>\n",
              "      <td>0</td>\n",
              "    </tr>\n",
              "    <tr>\n",
              "      <th>3</th>\n",
              "      <td>0</td>\n",
              "      <td>0</td>\n",
              "      <td>0</td>\n",
              "      <td>1</td>\n",
              "      <td>0</td>\n",
              "      <td>0</td>\n",
              "      <td>1</td>\n",
              "      <td>0</td>\n",
              "      <td>0</td>\n",
              "      <td>0</td>\n",
              "      <td>1</td>\n",
              "      <td>0</td>\n",
              "      <td>0</td>\n",
              "      <td>0</td>\n",
              "      <td>1</td>\n",
              "      <td>0</td>\n",
              "      <td>0</td>\n",
              "      <td>0</td>\n",
              "      <td>0</td>\n",
              "      <td>0</td>\n",
              "      <td>1</td>\n",
              "      <td>0</td>\n",
              "      <td>0</td>\n",
              "      <td>1</td>\n",
              "      <td>0</td>\n",
              "    </tr>\n",
              "    <tr>\n",
              "      <th>4</th>\n",
              "      <td>0</td>\n",
              "      <td>0</td>\n",
              "      <td>1</td>\n",
              "      <td>0</td>\n",
              "      <td>0</td>\n",
              "      <td>0</td>\n",
              "      <td>0</td>\n",
              "      <td>1</td>\n",
              "      <td>0</td>\n",
              "      <td>0</td>\n",
              "      <td>1</td>\n",
              "      <td>0</td>\n",
              "      <td>0</td>\n",
              "      <td>1</td>\n",
              "      <td>0</td>\n",
              "      <td>0</td>\n",
              "      <td>0</td>\n",
              "      <td>1</td>\n",
              "      <td>0</td>\n",
              "      <td>0</td>\n",
              "      <td>0</td>\n",
              "      <td>0</td>\n",
              "      <td>0</td>\n",
              "      <td>1</td>\n",
              "      <td>0</td>\n",
              "    </tr>\n",
              "  </tbody>\n",
              "</table>\n",
              "</div>"
            ],
            "text/plain": [
              "  SEVERITYCODE  ADDRTYPE_Alley  ...  LIGHTCOND_HAS_LIGHT  LIGHTCOND_OTHERUNKNOWN\n",
              "0            0               0  ...                    0                       0\n",
              "1            0               0  ...                    1                       0\n",
              "2            0               0  ...                    1                       0\n",
              "3            0               0  ...                    1                       0\n",
              "4            0               0  ...                    1                       0\n",
              "\n",
              "[5 rows x 25 columns]"
            ]
          },
          "metadata": {
            "tags": []
          },
          "execution_count": 185
        }
      ]
    },
    {
      "cell_type": "code",
      "metadata": {
        "colab": {
          "base_uri": "https://localhost:8080/",
          "height": 206
        },
        "id": "r1JAFmJbHs7M",
        "outputId": "e4b4d81e-8291-4119-8618-a8c3cb7e8bb0"
      },
      "source": [
        "dc3.head()"
      ],
      "execution_count": null,
      "outputs": [
        {
          "output_type": "execute_result",
          "data": {
            "text/html": [
              "<div>\n",
              "<style scoped>\n",
              "    .dataframe tbody tr th:only-of-type {\n",
              "        vertical-align: middle;\n",
              "    }\n",
              "\n",
              "    .dataframe tbody tr th {\n",
              "        vertical-align: top;\n",
              "    }\n",
              "\n",
              "    .dataframe thead th {\n",
              "        text-align: right;\n",
              "    }\n",
              "</style>\n",
              "<table border=\"1\" class=\"dataframe\">\n",
              "  <thead>\n",
              "    <tr style=\"text-align: right;\">\n",
              "      <th></th>\n",
              "      <th>SEVERITYCODE</th>\n",
              "      <th>ADDRTYPE</th>\n",
              "      <th>JUNCTIONTYPE</th>\n",
              "      <th>UNDERINFL</th>\n",
              "      <th>WEATHER</th>\n",
              "      <th>ROADCOND</th>\n",
              "      <th>LIGHTCOND</th>\n",
              "    </tr>\n",
              "  </thead>\n",
              "  <tbody>\n",
              "    <tr>\n",
              "      <th>0</th>\n",
              "      <td>0</td>\n",
              "      <td>Intersection</td>\n",
              "      <td>INTERSECTION_RELATED</td>\n",
              "      <td>N</td>\n",
              "      <td>CLEAR</td>\n",
              "      <td>DRY</td>\n",
              "      <td>DAYLIGHT</td>\n",
              "    </tr>\n",
              "    <tr>\n",
              "      <th>1</th>\n",
              "      <td>0</td>\n",
              "      <td>Block</td>\n",
              "      <td>INTERSECTION_UNRELATED</td>\n",
              "      <td>N</td>\n",
              "      <td>NOTCLEAR</td>\n",
              "      <td>WET</td>\n",
              "      <td>HAS_LIGHT</td>\n",
              "    </tr>\n",
              "    <tr>\n",
              "      <th>2</th>\n",
              "      <td>0</td>\n",
              "      <td>Block</td>\n",
              "      <td>INTERSECTION_UNRELATED</td>\n",
              "      <td>N</td>\n",
              "      <td>CLEAR</td>\n",
              "      <td>DRY</td>\n",
              "      <td>HAS_LIGHT</td>\n",
              "    </tr>\n",
              "    <tr>\n",
              "      <th>3</th>\n",
              "      <td>0</td>\n",
              "      <td>Intersection</td>\n",
              "      <td>INTERSECTION_RELATED</td>\n",
              "      <td>N</td>\n",
              "      <td>NOTCLEAR</td>\n",
              "      <td>WET</td>\n",
              "      <td>HAS_LIGHT</td>\n",
              "    </tr>\n",
              "    <tr>\n",
              "      <th>4</th>\n",
              "      <td>0</td>\n",
              "      <td>Block</td>\n",
              "      <td>INTERSECTION_UNRELATED</td>\n",
              "      <td>N</td>\n",
              "      <td>CLEAR</td>\n",
              "      <td>BAD</td>\n",
              "      <td>HAS_LIGHT</td>\n",
              "    </tr>\n",
              "  </tbody>\n",
              "</table>\n",
              "</div>"
            ],
            "text/plain": [
              "  SEVERITYCODE      ADDRTYPE  ... ROADCOND  LIGHTCOND\n",
              "0            0  Intersection  ...      DRY   DAYLIGHT\n",
              "1            0         Block  ...      WET  HAS_LIGHT\n",
              "2            0         Block  ...      DRY  HAS_LIGHT\n",
              "3            0  Intersection  ...      WET  HAS_LIGHT\n",
              "4            0         Block  ...      BAD  HAS_LIGHT\n",
              "\n",
              "[5 rows x 7 columns]"
            ]
          },
          "metadata": {
            "tags": []
          },
          "execution_count": 186
        }
      ]
    },
    {
      "cell_type": "code",
      "metadata": {
        "id": "bhB_0nXoPQH-"
      },
      "source": [
        "# this didn't work\r\n",
        "\r\n",
        "#from sklearn.preprocessing import OneHotEncoder\r\n",
        "\r\n",
        "#oe_style = OneHotEncoder()\r\n",
        "#oe_results = oe_style.fit_transform(dc3[['ADDRTYPE','JUNCTIONTYPE','UNDERINFL','WEATHER','ROADCOND','LIGHTCOND']])\r\n",
        "#pd.DataFrame(oe_results.toarray(), columns=oe_style.categories_).head()"
      ],
      "execution_count": null,
      "outputs": []
    },
    {
      "cell_type": "code",
      "metadata": {
        "id": "RHo9lb-IHb0P"
      },
      "source": [
        "#data_final=data[to_keep]\r\n",
        "#data_final.columns.values"
      ],
      "execution_count": null,
      "outputs": []
    },
    {
      "cell_type": "code",
      "metadata": {
        "colab": {
          "base_uri": "https://localhost:8080/"
        },
        "id": "0nzu80C4TYqB",
        "outputId": "150c8576-f019-4abc-ef03-66ab5413845d"
      },
      "source": [
        "data_final.shape"
      ],
      "execution_count": null,
      "outputs": [
        {
          "output_type": "execute_result",
          "data": {
            "text/plain": [
              "(200081, 25)"
            ]
          },
          "metadata": {
            "tags": []
          },
          "execution_count": 189
        }
      ]
    },
    {
      "cell_type": "code",
      "metadata": {
        "colab": {
          "base_uri": "https://localhost:8080/"
        },
        "id": "MVa5ogvxZF5h",
        "outputId": "5a671cfa-a71f-4833-f560-653e11d40e91"
      },
      "source": [
        "data_final.dtypes"
      ],
      "execution_count": null,
      "outputs": [
        {
          "output_type": "execute_result",
          "data": {
            "text/plain": [
              "SEVERITYCODE                           object\n",
              "ADDRTYPE_Alley                          uint8\n",
              "ADDRTYPE_Block                          uint8\n",
              "ADDRTYPE_Intersection                   uint8\n",
              "ADDRTYPE_Unknown                        uint8\n",
              "JUNCTIONTYPE_DRIVEWAY_JUNCTION          uint8\n",
              "JUNCTIONTYPE_INTERSECTION_RELATED       uint8\n",
              "JUNCTIONTYPE_INTERSECTION_UNRELATED     uint8\n",
              "JUNCTIONTYPE_OTHERUNKNOWN               uint8\n",
              "JUNCTIONTYPE_RAMP_JUNCTION              uint8\n",
              "UNDERINFL_N                             uint8\n",
              "UNDERINFL_Unknown                       uint8\n",
              "UNDERINFL_Y                             uint8\n",
              "WEATHER_CLEAR                           uint8\n",
              "WEATHER_NOTCLEAR                        uint8\n",
              "WEATHER_OTHERUNKNOWN                    uint8\n",
              "WEATHER_SEVERE                          uint8\n",
              "ROADCOND_BAD                            uint8\n",
              "ROADCOND_DRY                            uint8\n",
              "ROADCOND_OTHERUNKNONW                   uint8\n",
              "ROADCOND_WET                            uint8\n",
              "LIGHTCOND_DARK                          uint8\n",
              "LIGHTCOND_DAYLIGHT                      uint8\n",
              "LIGHTCOND_HAS_LIGHT                     uint8\n",
              "LIGHTCOND_OTHERUNKNOWN                  uint8\n",
              "dtype: object"
            ]
          },
          "metadata": {
            "tags": []
          },
          "execution_count": 190
        }
      ]
    },
    {
      "cell_type": "code",
      "metadata": {
        "id": "d1DAaEmfXgUd"
      },
      "source": [
        "data_final['SEVERITYCODE']=data_final['SEVERITYCODE'].astype('int')"
      ],
      "execution_count": null,
      "outputs": []
    },
    {
      "cell_type": "code",
      "metadata": {
        "colab": {
          "base_uri": "https://localhost:8080/"
        },
        "id": "kAN2CkFzZD1A",
        "outputId": "1fda441d-6933-4cad-d13d-74748941e22b"
      },
      "source": [
        "data_final.dtypes"
      ],
      "execution_count": null,
      "outputs": [
        {
          "output_type": "execute_result",
          "data": {
            "text/plain": [
              "SEVERITYCODE                           int64\n",
              "ADDRTYPE_Alley                         uint8\n",
              "ADDRTYPE_Block                         uint8\n",
              "ADDRTYPE_Intersection                  uint8\n",
              "ADDRTYPE_Unknown                       uint8\n",
              "JUNCTIONTYPE_DRIVEWAY_JUNCTION         uint8\n",
              "JUNCTIONTYPE_INTERSECTION_RELATED      uint8\n",
              "JUNCTIONTYPE_INTERSECTION_UNRELATED    uint8\n",
              "JUNCTIONTYPE_OTHERUNKNOWN              uint8\n",
              "JUNCTIONTYPE_RAMP_JUNCTION             uint8\n",
              "UNDERINFL_N                            uint8\n",
              "UNDERINFL_Unknown                      uint8\n",
              "UNDERINFL_Y                            uint8\n",
              "WEATHER_CLEAR                          uint8\n",
              "WEATHER_NOTCLEAR                       uint8\n",
              "WEATHER_OTHERUNKNOWN                   uint8\n",
              "WEATHER_SEVERE                         uint8\n",
              "ROADCOND_BAD                           uint8\n",
              "ROADCOND_DRY                           uint8\n",
              "ROADCOND_OTHERUNKNONW                  uint8\n",
              "ROADCOND_WET                           uint8\n",
              "LIGHTCOND_DARK                         uint8\n",
              "LIGHTCOND_DAYLIGHT                     uint8\n",
              "LIGHTCOND_HAS_LIGHT                    uint8\n",
              "LIGHTCOND_OTHERUNKNOWN                 uint8\n",
              "dtype: object"
            ]
          },
          "metadata": {
            "tags": []
          },
          "execution_count": 192
        }
      ]
    },
    {
      "cell_type": "code",
      "metadata": {
        "colab": {
          "base_uri": "https://localhost:8080/"
        },
        "id": "yWidzyykRkFE",
        "outputId": "65d3bf34-4a6b-41f3-933f-fb562409811f"
      },
      "source": [
        "\r\n",
        "# Oversample training data\r\n",
        "# y_test is 30% of the total dataset (200031). ratio of 0/1 maintaining at the original level\r\n",
        "# y_train 0/1 ratio is now 50/50 split after the oversample.\r\n",
        "\r\n",
        "# At a high level, SMOTE:\r\n",
        "\r\n",
        "   # Works by creating synthetic samples from the minor class (no-subscription) instead of creating copies.\r\n",
        "   # Randomly choosing one of the k-nearest-neighbors and using it to create a similar, but randomly tweaked, new observations.\r\n",
        "\r\n",
        "\r\n",
        "X = data_final.loc[:, data_final.columns != 'SEVERITYCODE']\r\n",
        "y = data_final.loc[:, data_final.columns == 'SEVERITYCODE'] \r\n",
        "from imblearn.over_sampling import SMOTE\r\n",
        "\r\n",
        "os = SMOTE(random_state=0)\r\n",
        "X_train, X_test, y_train, y_test = train_test_split(X, y, test_size=0.3, random_state=0)\r\n",
        "columns = X_train.columns\r\n",
        "\r\n",
        "\r\n",
        "os_data_X, os_data_y=os.fit_sample(X_train, y_train)\r\n",
        "os_data_X = pd.DataFrame(data=os_data_X,columns=columns )\r\n",
        "os_data_y= pd.DataFrame(data=os_data_y,columns=['y'])\r\n",
        "# we can Check the numbers of our data\r\n",
        "print(\"length of oversampled data is \",len(os_data_X))\r\n",
        "print(\"Number of no subscription in oversampled data\",len(os_data_y[os_data_y['y']==0]))\r\n",
        "print(\"Number of subscription\",len(os_data_y[os_data_y['y']==1]))\r\n",
        "print(\"Proportion of no subscription data in oversampled data is \",len(os_data_y[os_data_y['y']==0])/len(os_data_X))\r\n",
        "print(\"Proportion of subscription data in oversampled data is \",len(os_data_y[os_data_y['y']==1])/len(os_data_X))"
      ],
      "execution_count": null,
      "outputs": [
        {
          "output_type": "stream",
          "text": [
            "/usr/local/lib/python3.6/dist-packages/sklearn/externals/six.py:31: FutureWarning: The module is deprecated in version 0.21 and will be removed in version 0.23 since we've dropped support for Python 2.7. Please rely on the official version of six (https://pypi.org/project/six/).\n",
            "  \"(https://pypi.org/project/six/).\", FutureWarning)\n",
            "/usr/local/lib/python3.6/dist-packages/sklearn/utils/deprecation.py:144: FutureWarning: The sklearn.neighbors.base module is  deprecated in version 0.22 and will be removed in version 0.24. The corresponding classes / functions should instead be imported from sklearn.neighbors. Anything that cannot be imported from sklearn.neighbors is now part of the private API.\n",
            "  warnings.warn(message, FutureWarning)\n",
            "/usr/local/lib/python3.6/dist-packages/sklearn/utils/validation.py:760: DataConversionWarning: A column-vector y was passed when a 1d array was expected. Please change the shape of y to (n_samples, ), for example using ravel().\n",
            "  y = column_or_1d(y, warn=True)\n",
            "/usr/local/lib/python3.6/dist-packages/sklearn/utils/deprecation.py:87: FutureWarning: Function safe_indexing is deprecated; safe_indexing is deprecated in version 0.22 and will be removed in version 0.24.\n",
            "  warnings.warn(msg, category=FutureWarning)\n"
          ],
          "name": "stderr"
        },
        {
          "output_type": "stream",
          "text": [
            "length of oversampled data is  275294\n",
            "Number of no subscription in oversampled data 137647\n",
            "Number of subscription 137647\n",
            "Proportion of no subscription data in oversampled data is  0.5\n",
            "Proportion of subscription data in oversampled data is  0.5\n"
          ],
          "name": "stdout"
        }
      ]
    },
    {
      "cell_type": "code",
      "metadata": {
        "colab": {
          "base_uri": "https://localhost:8080/",
          "height": 231
        },
        "id": "bZGbrF5OaNFC",
        "outputId": "32a9ebc1-15f7-473d-9584-626c21212fe0"
      },
      "source": [
        "# check target freq distribution of the oversampled training data\r\n",
        "\r\n",
        "y_test.head()\r\n",
        "y_test.groupby(\"SEVERITYCODE\")[\"SEVERITYCODE\"].count()"
      ],
      "execution_count": null,
      "outputs": [
        {
          "output_type": "error",
          "ename": "NameError",
          "evalue": "ignored",
          "traceback": [
            "\u001b[0;31m---------------------------------------------------------------------------\u001b[0m",
            "\u001b[0;31mNameError\u001b[0m                                 Traceback (most recent call last)",
            "\u001b[0;32m<ipython-input-98-3033052dfa12>\u001b[0m in \u001b[0;36m<module>\u001b[0;34m()\u001b[0m\n\u001b[1;32m      1\u001b[0m \u001b[0;31m# check target freq distribution of the oversampled training data\u001b[0m\u001b[0;34m\u001b[0m\u001b[0;34m\u001b[0m\u001b[0;34m\u001b[0m\u001b[0m\n\u001b[1;32m      2\u001b[0m \u001b[0;34m\u001b[0m\u001b[0m\n\u001b[0;32m----> 3\u001b[0;31m \u001b[0my_test\u001b[0m\u001b[0;34m.\u001b[0m\u001b[0mhead\u001b[0m\u001b[0;34m(\u001b[0m\u001b[0;34m)\u001b[0m\u001b[0;34m\u001b[0m\u001b[0;34m\u001b[0m\u001b[0m\n\u001b[0m\u001b[1;32m      4\u001b[0m \u001b[0my_test\u001b[0m\u001b[0;34m.\u001b[0m\u001b[0mgroupby\u001b[0m\u001b[0;34m(\u001b[0m\u001b[0;34m\"SEVERITYCODE\"\u001b[0m\u001b[0;34m)\u001b[0m\u001b[0;34m[\u001b[0m\u001b[0;34m\"SEVERITYCODE\"\u001b[0m\u001b[0;34m]\u001b[0m\u001b[0;34m.\u001b[0m\u001b[0mcount\u001b[0m\u001b[0;34m(\u001b[0m\u001b[0;34m)\u001b[0m\u001b[0;34m\u001b[0m\u001b[0;34m\u001b[0m\u001b[0m\n",
            "\u001b[0;31mNameError\u001b[0m: name 'y_test' is not defined"
          ]
        }
      ]
    },
    {
      "cell_type": "markdown",
      "metadata": {
        "id": "bdqz2ltFji4H"
      },
      "source": [
        "## Recursive Feature Elimination\r\n",
        "\r\n",
        "Recursive Feature Elimination (RFE) is based on the idea to repeatedly construct a model and choose either the best or worst performing feature, setting the feature aside and then repeating the process with the rest of the features. This process is applied until all features in the dataset are exhausted. The goal of RFE is to select features by recursively considering smaller and smaller sets of features."
      ]
    },
    {
      "cell_type": "code",
      "metadata": {
        "colab": {
          "base_uri": "https://localhost:8080/"
        },
        "id": "QL6XU8q0TxIf",
        "outputId": "6ae703b7-4918-449a-9f9f-1afea68a161d"
      },
      "source": [
        "# select significant variables using oversampled training data\r\n",
        "\r\n",
        "data_final_vars=data_final.columns.values.tolist()\r\n",
        "y=['SEVERITYCODE']\r\n",
        "X=[i for i in data_final_vars if i not in y]\r\n",
        "from sklearn.feature_selection import RFE\r\n",
        "from sklearn.linear_model import LogisticRegression\r\n",
        "logreg = LogisticRegression(max_iter=1000)\r\n",
        "rfe = RFE(logreg)\r\n",
        "rfe = rfe.fit(os_data_X, os_data_y.values.ravel())\r\n",
        "print(rfe.support_)\r\n",
        "print(rfe.ranking_)\r\n"
      ],
      "execution_count": null,
      "outputs": [
        {
          "output_type": "stream",
          "text": [
            "[False  True  True  True  True  True  True False False False  True False\n",
            " False False False False  True False  True False  True  True  True False]\n",
            "[ 3  1  1  1  1  1  1 10 13  9  1  2  5  6 11 12  1  7  1  8  1  1  1  4]\n"
          ],
          "name": "stdout"
        }
      ]
    },
    {
      "cell_type": "code",
      "metadata": {
        "id": "BOgZJAriIDJ5"
      },
      "source": [
        "cols=['ADDRTYPE_Alley','ADDRTYPE_Block','ADDRTYPE_Intersection','ADDRTYPE_Unknown'\\\r\n",
        "      ,'JUNCTIONTYPE_DRIVEWAY_JUNCTION','JUNCTIONTYPE_INTERSECTION_RELATED'\\\r\n",
        "      ,'LIGHTCOND_DARK'\\\r\n",
        "      ,'ROADCOND_OTHERUNKNONW'\\\r\n",
        "      ,'UNDERINFL_N','UNDERINFL_Y'\\\r\n",
        "      ,'WEATHER_CLEAR','WEATHER_NOTCLEAR'] \r\n",
        "X=os_data_X[cols]\r\n",
        "y=os_data_y['y']"
      ],
      "execution_count": null,
      "outputs": []
    },
    {
      "cell_type": "markdown",
      "metadata": {
        "id": "KFvcu8YF2Epq"
      },
      "source": [
        "What is the difference between\r\n",
        "\r\n",
        "(statsmodels.api library)\r\n",
        "\r\n",
        "logit_model.fit()\r\n",
        "\r\n",
        "Is there a .predict method in the library?\r\n",
        "\r\n",
        "---\r\n",
        "\r\n",
        "\r\n",
        "(sklearn LogisticRegression) \r\n",
        "\r\n",
        "\r\n",
        "LogisticRegression.fit(X_train, y_train)\r\n",
        "\r\n",
        "\r\n",
        "\r\n",
        "---\r\n",
        "In this case, two approaches generated the same results\r\n",
        "\r\n",
        "\r\n",
        "\r\n"
      ]
    },
    {
      "cell_type": "code",
      "metadata": {
        "colab": {
          "base_uri": "https://localhost:8080/"
        },
        "id": "tUnd1qL5LrTu",
        "outputId": "ec16412b-560d-42b5-cbfd-8a2afe10e53f"
      },
      "source": [
        "# Build the model with significant variables\r\n",
        "\r\n",
        "import statsmodels.api as sm\r\n",
        "logit_model=sm.Logit(y,X)\r\n",
        "result=logit_model.fit()  \r\n",
        "print(result.summary2())"
      ],
      "execution_count": null,
      "outputs": [
        {
          "output_type": "stream",
          "text": [
            "Optimization terminated successfully.\n",
            "         Current function value: 0.659788\n",
            "         Iterations 11\n",
            "                                  Results: Logit\n",
            "==================================================================================\n",
            "Model:                    Logit                 Pseudo R-squared:      0.048      \n",
            "Dependent Variable:       y                     AIC:                   363295.2897\n",
            "Date:                     2021-01-08 21:39      BIC:                   363421.5968\n",
            "No. Observations:         275294                Log-Likelihood:        -1.8164e+05\n",
            "Df Model:                 11                    LL-Null:               -1.9082e+05\n",
            "Df Residuals:             275282                LLR p-value:           0.0000     \n",
            "Converged:                1.0000                Scale:                 1.0000     \n",
            "No. Iterations:           11.0000                                                 \n",
            "----------------------------------------------------------------------------------\n",
            "                                   Coef.  Std.Err.    z     P>|z|   [0.025  0.975]\n",
            "----------------------------------------------------------------------------------\n",
            "ADDRTYPE_Alley                    -3.1685   0.2105 -15.0549 0.0000 -3.5810 -2.7560\n",
            "ADDRTYPE_Block                     0.0043   0.0008   5.3405 0.0000  0.0028  0.0059\n",
            "ADDRTYPE_Intersection              0.3162   0.0065  48.4404 0.0000  0.3034  0.3290\n",
            "ADDRTYPE_Unknown                  -6.7713   1.0006  -6.7676 0.0000 -8.7324 -4.8103\n",
            "JUNCTIONTYPE_DRIVEWAY_JUNCTION     0.0068   0.0027   2.4762 0.0133  0.0014  0.0121\n",
            "JUNCTIONTYPE_INTERSECTION_RELATED  0.0223   0.0017  13.4051 0.0000  0.0190  0.0256\n",
            "LIGHTCOND_DARK                    -0.0005   0.0045  -0.1128 0.9102 -0.0093  0.0083\n",
            "ROADCOND_OTHERUNKNONW             -1.0319   0.0176 -58.6423 0.0000 -1.0664 -0.9975\n",
            "UNDERINFL_N                        0.0093   0.0008  12.0141 0.0000  0.0078  0.0108\n",
            "UNDERINFL_Y                        0.9751   0.0147  66.2380 0.0000  0.9462  1.0039\n",
            "WEATHER_CLEAR                      0.0203   0.0014  14.2534 0.0000  0.0175  0.0231\n",
            "WEATHER_NOTCLEAR                   0.0195   0.0013  14.6367 0.0000  0.0169  0.0221\n",
            "==================================================================================\n",
            "\n"
          ],
          "name": "stdout"
        }
      ]
    },
    {
      "cell_type": "code",
      "metadata": {
        "colab": {
          "base_uri": "https://localhost:8080/"
        },
        "id": "OcbR2K_J8vHb",
        "outputId": "6f41fbcf-726d-4bfc-daf7-9458f3b2ae2d"
      },
      "source": [
        "cols=['ADDRTYPE_Alley','ADDRTYPE_Block','ADDRTYPE_Intersection','ADDRTYPE_Unknown'\\\r\n",
        "      ,'JUNCTIONTYPE_DRIVEWAY_JUNCTION','JUNCTIONTYPE_INTERSECTION_RELATED'\\\r\n",
        "     # ,'LIGHTCOND_DARK'\\\r\n",
        "      ,'ROADCOND_OTHERUNKNONW'\\\r\n",
        "      ,'UNDERINFL_N','UNDERINFL_Y'\\\r\n",
        "      ,'WEATHER_CLEAR','WEATHER_NOTCLEAR'] \r\n",
        "X=os_data_X[cols]\r\n",
        "y=os_data_y['y']\r\n",
        "logit_model=sm.Logit(y,X)\r\n",
        "result=logit_model.fit()\r\n",
        "print(result.summary2())"
      ],
      "execution_count": null,
      "outputs": [
        {
          "output_type": "stream",
          "text": [
            "Optimization terminated successfully.\n",
            "         Current function value: 0.659788\n",
            "         Iterations 11\n",
            "                                  Results: Logit\n",
            "==================================================================================\n",
            "Model:                    Logit                 Pseudo R-squared:      0.048      \n",
            "Dependent Variable:       y                     AIC:                   363293.3022\n",
            "Date:                     2021-01-08 21:42      BIC:                   363409.0837\n",
            "No. Observations:         275294                Log-Likelihood:        -1.8164e+05\n",
            "Df Model:                 10                    LL-Null:               -1.9082e+05\n",
            "Df Residuals:             275283                LLR p-value:           0.0000     \n",
            "Converged:                1.0000                Scale:                 1.0000     \n",
            "No. Iterations:           11.0000                                                 \n",
            "----------------------------------------------------------------------------------\n",
            "                                   Coef.  Std.Err.    z     P>|z|   [0.025  0.975]\n",
            "----------------------------------------------------------------------------------\n",
            "ADDRTYPE_Alley                    -3.1685   0.2105 -15.0551 0.0000 -3.5810 -2.7560\n",
            "ADDRTYPE_Block                     0.0043   0.0008   5.3405 0.0000  0.0028  0.0059\n",
            "ADDRTYPE_Intersection              0.3162   0.0065  48.4415 0.0000  0.3034  0.3290\n",
            "ADDRTYPE_Unknown                  -6.7713   1.0006  -6.7676 0.0000 -8.7324 -4.8103\n",
            "JUNCTIONTYPE_DRIVEWAY_JUNCTION     0.0068   0.0027   2.4762 0.0133  0.0014  0.0121\n",
            "JUNCTIONTYPE_INTERSECTION_RELATED  0.0223   0.0017  13.4051 0.0000  0.0190  0.0256\n",
            "ROADCOND_OTHERUNKNONW             -1.0319   0.0176 -58.6424 0.0000 -1.0664 -0.9975\n",
            "UNDERINFL_N                        0.0093   0.0008  12.0138 0.0000  0.0078  0.0108\n",
            "UNDERINFL_Y                        0.9750   0.0147  66.2555 0.0000  0.9462  1.0039\n",
            "WEATHER_CLEAR                      0.0203   0.0014  14.2537 0.0000  0.0175  0.0231\n",
            "WEATHER_NOTCLEAR                   0.0195   0.0013  14.6367 0.0000  0.0169  0.0221\n",
            "==================================================================================\n",
            "\n"
          ],
          "name": "stdout"
        }
      ]
    },
    {
      "cell_type": "markdown",
      "metadata": {
        "id": "Iwt24Nqu_WX7"
      },
      "source": [
        "This step does not seem needed. Can just directly predict the results using test dataset"
      ]
    },
    {
      "cell_type": "code",
      "metadata": {
        "colab": {
          "base_uri": "https://localhost:8080/"
        },
        "id": "BKZ-F5TGMepL",
        "outputId": "80a1e50e-0223-4edd-d928-3fee71d96c0c"
      },
      "source": [
        "\r\n",
        "from sklearn.linear_model import LogisticRegression\r\n",
        "from sklearn import metrics\r\n",
        "\r\n",
        "X_train, X_test, y_train, y_test = train_test_split(X, y, test_size=0.3, random_state=0)\r\n",
        "logreg = LogisticRegression()\r\n",
        "logreg.fit(X_train, y_train)  # should this be used instead? logreg.fit(X, y)\r\n",
        "\r\n",
        "#logreg.score(X_test,y_test)\r\n",
        "print(result.summary2())\r\n"
      ],
      "execution_count": null,
      "outputs": [
        {
          "output_type": "stream",
          "text": [
            "                                  Results: Logit\n",
            "==================================================================================\n",
            "Model:                    Logit                 Pseudo R-squared:      0.048      \n",
            "Dependent Variable:       y                     AIC:                   363295.2897\n",
            "Date:                     2021-01-08 21:04      BIC:                   363421.5968\n",
            "No. Observations:         275294                Log-Likelihood:        -1.8164e+05\n",
            "Df Model:                 11                    LL-Null:               -1.9082e+05\n",
            "Df Residuals:             275282                LLR p-value:           0.0000     \n",
            "Converged:                1.0000                Scale:                 1.0000     \n",
            "No. Iterations:           11.0000                                                 \n",
            "----------------------------------------------------------------------------------\n",
            "                                   Coef.  Std.Err.    z     P>|z|   [0.025  0.975]\n",
            "----------------------------------------------------------------------------------\n",
            "ADDRTYPE_Alley                    -3.1685   0.2105 -15.0549 0.0000 -3.5810 -2.7560\n",
            "ADDRTYPE_Block                     0.0043   0.0008   5.3405 0.0000  0.0028  0.0059\n",
            "ADDRTYPE_Intersection              0.3162   0.0065  48.4404 0.0000  0.3034  0.3290\n",
            "ADDRTYPE_Unknown                  -6.7713   1.0006  -6.7676 0.0000 -8.7324 -4.8103\n",
            "JUNCTIONTYPE_DRIVEWAY_JUNCTION     0.0068   0.0027   2.4762 0.0133  0.0014  0.0121\n",
            "JUNCTIONTYPE_INTERSECTION_RELATED  0.0223   0.0017  13.4051 0.0000  0.0190  0.0256\n",
            "LIGHTCOND_DARK                    -0.0005   0.0045  -0.1128 0.9102 -0.0093  0.0083\n",
            "ROADCOND_OTHERUNKNONW             -1.0319   0.0176 -58.6423 0.0000 -1.0664 -0.9975\n",
            "UNDERINFL_N                        0.0093   0.0008  12.0141 0.0000  0.0078  0.0108\n",
            "UNDERINFL_Y                        0.9751   0.0147  66.2380 0.0000  0.9462  1.0039\n",
            "WEATHER_CLEAR                      0.0203   0.0014  14.2534 0.0000  0.0175  0.0231\n",
            "WEATHER_NOTCLEAR                   0.0195   0.0013  14.6367 0.0000  0.0169  0.0221\n",
            "==================================================================================\n",
            "\n"
          ],
          "name": "stdout"
        }
      ]
    },
    {
      "cell_type": "code",
      "metadata": {
        "colab": {
          "base_uri": "https://localhost:8080/"
        },
        "id": "8kuj756wMyvK",
        "outputId": "9c899765-b9ea-4b28-963a-fdc033664e55"
      },
      "source": [
        "y_pred = logreg.predict(X_test)\r\n",
        "print('Accuracy of logistic regression classifier on test set: {:.2f}'.format(logreg.score(X_test, y_test)))"
      ],
      "execution_count": null,
      "outputs": [
        {
          "output_type": "stream",
          "text": [
            "Accuracy of logistic regression classifier on test set: 0.63\n"
          ],
          "name": "stdout"
        }
      ]
    },
    {
      "cell_type": "code",
      "metadata": {
        "colab": {
          "base_uri": "https://localhost:8080/"
        },
        "id": "RM0UMcmyM5Sl",
        "outputId": "bd3bea7f-8991-458e-c468-39096b9574a7"
      },
      "source": [
        "from sklearn.metrics import confusion_matrix\r\n",
        "confusion_matrix = confusion_matrix(y_test, y_pred)\r\n",
        "print(confusion_matrix)"
      ],
      "execution_count": null,
      "outputs": [
        {
          "output_type": "stream",
          "text": [
            "[[27027 14312]\n",
            " [16445 24805]]\n"
          ],
          "name": "stdout"
        }
      ]
    },
    {
      "cell_type": "code",
      "metadata": {
        "colab": {
          "base_uri": "https://localhost:8080/"
        },
        "id": "SScl95_8NQWT",
        "outputId": "f1f54ee2-e79c-4f73-fed8-8b71c3bb1d3f"
      },
      "source": [
        "from sklearn.metrics import classification_report\r\n",
        "print(classification_report(y_test, y_pred))"
      ],
      "execution_count": null,
      "outputs": [
        {
          "output_type": "stream",
          "text": [
            "              precision    recall  f1-score   support\n",
            "\n",
            "           0       0.62      0.65      0.64     41339\n",
            "           1       0.63      0.60      0.62     41250\n",
            "\n",
            "    accuracy                           0.63     82589\n",
            "   macro avg       0.63      0.63      0.63     82589\n",
            "weighted avg       0.63      0.63      0.63     82589\n",
            "\n"
          ],
          "name": "stdout"
        }
      ]
    },
    {
      "cell_type": "code",
      "metadata": {
        "colab": {
          "base_uri": "https://localhost:8080/",
          "height": 295
        },
        "id": "90SPO3JQNe7F",
        "outputId": "4b64eefd-2cd3-4c24-cd1e-0d15b3786e36"
      },
      "source": [
        "from sklearn.metrics import roc_auc_score\r\n",
        "from sklearn.metrics import roc_curve\r\n",
        "logit_roc_auc = roc_auc_score(y_test, logreg.predict(X_test))\r\n",
        "fpr, tpr, thresholds = roc_curve(y_test, logreg.predict_proba(X_test)[:,1])\r\n",
        "plt.figure()\r\n",
        "plt.plot(fpr, tpr, label='Logistic Regression (area = %0.2f)' % logit_roc_auc)\r\n",
        "plt.plot([0, 1], [0, 1],'r--')\r\n",
        "plt.xlim([0.0, 1.0])\r\n",
        "plt.ylim([0.0, 1.05])\r\n",
        "plt.xlabel('False Positive Rate')\r\n",
        "plt.ylabel('True Positive Rate')\r\n",
        "plt.title('Receiver operating characteristic')\r\n",
        "plt.legend(loc=\"lower right\")\r\n",
        "plt.savefig('Log_ROC')\r\n",
        "plt.show()"
      ],
      "execution_count": null,
      "outputs": [
        {
          "output_type": "display_data",
          "data": {
            "image/png": "[encoded data removed]",
            "text/plain": [
              "<Figure size 432x288 with 1 Axes>"
            ]
          },
          "metadata": {
            "tags": [],
            "needs_background": "light"
          }
        }
      ]
    },
    {
      "cell_type": "markdown",
      "metadata": {
        "id": "eqJFYRw9o9yx"
      },
      "source": [
        "# Useful Syntax"
      ]
    },
    {
      "cell_type": "code",
      "metadata": {
        "id": "ULOuRziTQF-e"
      },
      "source": [
        "dc.head()"
      ],
      "execution_count": null,
      "outputs": []
    },
    {
      "cell_type": "markdown",
      "metadata": {
        "id": "_gHWC0Jxogtk"
      },
      "source": [
        "## drop variables"
      ]
    },
    {
      "cell_type": "code",
      "metadata": {
        "id": "FoCYa5-Qh1mZ"
      },
      "source": [
        "dc2 = dc2.drop('PEDROWNOTGRNT', 1)"
      ],
      "execution_count": null,
      "outputs": []
    },
    {
      "cell_type": "markdown",
      "metadata": {
        "id": "rg4eUfy7A0ET"
      },
      "source": [
        "## replace value if condition"
      ]
    },
    {
      "cell_type": "code",
      "metadata": {
        "id": "qQfwbqUnAxCC"
      },
      "source": [
        "dc2['ADDRTYPE']=dc2['ADDRTYPE'].replace(np.NaN,'Other')\r\n",
        "\r\n",
        "\r\n",
        "#dc2.ADDRTYPE.replace(np.NaN,'Other', inplace=True)\r\n",
        "#dc2['ADDRTYPE']=dc2.ADDRTYPE.apply(lambda x: x if not pd.isnull() else 'Other')\r\n",
        "\r\n",
        "\r\n",
        "df.loc[df['column name'] condition, 'new column name'] = 'value if condition is met'\r\n",
        "df['new column name'] = df['column name'].apply(lambda x: 'value if condition is met' if x condition else 'value if condition is not met')\r\n",
        "\r\n",
        "#example\r\n",
        "dc2.loc[dc2['UNDERINFL'] == 'N', 'UNDERINFL_NEW'] = 'N'\r\n",
        "dc2.loc[dc2['UNDERINFL'] == 'Y', 'UNDERINFL_NEW'] = 'Y' \r\n",
        "dc2.loc[dc2['UNDERINFL'].isnull()== True, 'UNDERINFL_NEW'] = 'Other' "
      ],
      "execution_count": null,
      "outputs": []
    },
    {
      "cell_type": "markdown",
      "metadata": {
        "id": "k_CKTjyPKa-9"
      },
      "source": [
        "## Scatterplot - Relationship between Categorical and Numerical data"
      ]
    },
    {
      "cell_type": "code",
      "metadata": {
        "id": "kV2nmbMgJ20S"
      },
      "source": [
        "cond_plot = sns.FacetGrid(data=housing, col='Neighborhood', hue='CentralAir', col_wrap=4)\r\n",
        "cond_plot.map(sns.scatterplot, 'OverallQual', 'SalesPrice');\r\n"
      ],
      "execution_count": null,
      "outputs": []
    },
    {
      "cell_type": "markdown",
      "metadata": {
        "id": "zohp4dMMKlN3"
      },
      "source": [
        "## Scatterplot - Numerical Variables"
      ]
    },
    {
      "cell_type": "code",
      "metadata": {
        "id": "gbX-6ii9Tf8n"
      },
      "source": [
        "df = dat[['Income','Loan_amount','Investment','age','work_exp']]\r\n",
        "\r\n",
        "sns.pairplot(df, kind=\"scatter\")\r\n",
        "plt.show()"
      ],
      "execution_count": null,
      "outputs": []
    }
  ]
}