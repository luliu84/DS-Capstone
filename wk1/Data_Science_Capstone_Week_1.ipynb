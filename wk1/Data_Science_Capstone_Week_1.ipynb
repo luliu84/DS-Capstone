{
  "nbformat": 4,
  "nbformat_minor": 0,
  "metadata": {
    "colab": {
      "name": "Data Science Capstone - Week 1.ipynb",
      "provenance": []
    },
    "kernelspec": {
      "name": "python3",
      "display_name": "Python 3"
    }
  },
  "cells": [
    {
      "cell_type": "markdown",
      "metadata": {
        "id": "9O7CUf05M9WF"
      },
      "source": [
        "# Data Science Capstone Week 1 Project\n",
        "## Create Github Account and test it out"
      ]
    },
    {
      "cell_type": "code",
      "metadata": {
        "id": "nSGEooPc2px9",
        "outputId": "d4cc2f30-c56f-4f3c-d832-d9b1e9a5b69a",
        "colab": {
          "base_uri": "https://localhost:8080/"
        }
      },
      "source": [
        "# Create a Github Account\n",
        "\n",
        "import pandas as pd\n",
        "import numpy as np\n",
        "\n",
        "print (\"Hello Capstone Project Course!\")"
      ],
      "execution_count": null,
      "outputs": [
        {
          "output_type": "stream",
          "text": [
            "Hello Capstone Project Course!\n"
          ],
          "name": "stdout"
        }
      ]
    }
  ]
}